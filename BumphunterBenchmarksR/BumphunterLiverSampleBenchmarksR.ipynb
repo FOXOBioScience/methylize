{
 "cells": [
  {
   "cell_type": "markdown",
   "metadata": {},
   "source": [
    "# Searching for DMRs with BioConductor's bumphunter\n",
    "\n",
    "This notebook searches for Differentially Methylated Regions (DMRs) along the genome using 450k array data and the [bumphunter function from Bioconductor](https://bioconductor.org/packages/release/bioc/html/bumphunter.html). The packages statistical methods are outlined in the [authors' 2012 publication](https://www.ncbi.nlm.nih.gov/pmc/articles/PMC3304533/). The purposes of this notebook are to 1) adjust the parameters of the bumphunter function and examine how the identified DMRs change in response and 2) create benchmark results against which to compare the performance of the forthcoming python version of the package.\n",
    "\n",
    "### Load minfi package from which bumphunter function will be called"
   ]
  },
  {
   "cell_type": "code",
   "execution_count": 1,
   "metadata": {
    "scrolled": true
   },
   "outputs": [
    {
     "name": "stderr",
     "output_type": "stream",
     "text": [
      "Loading required package: BiocGenerics\n",
      "Loading required package: parallel\n",
      "\n",
      "Attaching package: 'BiocGenerics'\n",
      "\n",
      "The following objects are masked from 'package:parallel':\n",
      "\n",
      "    clusterApply, clusterApplyLB, clusterCall, clusterEvalQ,\n",
      "    clusterExport, clusterMap, parApply, parCapply, parLapply,\n",
      "    parLapplyLB, parRapply, parSapply, parSapplyLB\n",
      "\n",
      "The following objects are masked from 'package:stats':\n",
      "\n",
      "    IQR, mad, sd, var, xtabs\n",
      "\n",
      "The following objects are masked from 'package:base':\n",
      "\n",
      "    anyDuplicated, append, as.data.frame, basename, cbind, colMeans,\n",
      "    colnames, colSums, dirname, do.call, duplicated, eval, evalq,\n",
      "    Filter, Find, get, grep, grepl, intersect, is.unsorted, lapply,\n",
      "    lengths, Map, mapply, match, mget, order, paste, pmax, pmax.int,\n",
      "    pmin, pmin.int, Position, rank, rbind, Reduce, rowMeans, rownames,\n",
      "    rowSums, sapply, setdiff, sort, table, tapply, union, unique,\n",
      "    unsplit, which, which.max, which.min\n",
      "\n",
      "Loading required package: GenomicRanges\n",
      "Loading required package: stats4\n",
      "Loading required package: S4Vectors\n",
      "\n",
      "Attaching package: 'S4Vectors'\n",
      "\n",
      "The following object is masked from 'package:base':\n",
      "\n",
      "    expand.grid\n",
      "\n",
      "Loading required package: IRanges\n",
      "\n",
      "Attaching package: 'IRanges'\n",
      "\n",
      "The following object is masked from 'package:grDevices':\n",
      "\n",
      "    windows\n",
      "\n",
      "Loading required package: GenomeInfoDb\n",
      "Loading required package: SummarizedExperiment\n",
      "Loading required package: Biobase\n",
      "Welcome to Bioconductor\n",
      "\n",
      "    Vignettes contain introductory material; view with\n",
      "    'browseVignettes()'. To cite Bioconductor, see\n",
      "    'citation(\"Biobase\")', and for packages 'citation(\"pkgname\")'.\n",
      "\n",
      "Loading required package: DelayedArray\n",
      "Loading required package: matrixStats\n",
      "\n",
      "Attaching package: 'matrixStats'\n",
      "\n",
      "The following objects are masked from 'package:Biobase':\n",
      "\n",
      "    anyMissing, rowMedians\n",
      "\n",
      "Loading required package: BiocParallel\n",
      "\n",
      "Attaching package: 'DelayedArray'\n",
      "\n",
      "The following objects are masked from 'package:matrixStats':\n",
      "\n",
      "    colMaxs, colMins, colRanges, rowMaxs, rowMins, rowRanges\n",
      "\n",
      "The following objects are masked from 'package:base':\n",
      "\n",
      "    aperm, apply\n",
      "\n",
      "Loading required package: Biostrings\n",
      "Loading required package: XVector\n",
      "\n",
      "Attaching package: 'Biostrings'\n",
      "\n",
      "The following object is masked from 'package:DelayedArray':\n",
      "\n",
      "    type\n",
      "\n",
      "The following object is masked from 'package:base':\n",
      "\n",
      "    strsplit\n",
      "\n",
      "Loading required package: bumphunter\n",
      "Loading required package: foreach\n",
      "Loading required package: iterators\n",
      "Loading required package: locfit\n",
      "locfit 1.5-9.1 \t 2013-03-22\n",
      "Setting options('download.file.method.GEOquery'='auto')\n",
      "Setting options('GEOquery.inmemory.gpl'=FALSE)\n"
     ]
    },
    {
     "data": {
      "text/html": [
       "'C:/Users/Alanna/Documents/Life Epigenetics/BumphunterBenchmarksR/GSE69852_copy'"
      ],
      "text/latex": [
       "'C:/Users/Alanna/Documents/Life Epigenetics/BumphunterBenchmarksR/GSE69852\\_copy'"
      ],
      "text/markdown": [
       "'C:/Users/Alanna/Documents/Life Epigenetics/BumphunterBenchmarksR/GSE69852_copy'"
      ],
      "text/plain": [
       "[1] \"C:/Users/Alanna/Documents/Life Epigenetics/BumphunterBenchmarksR/GSE69852_copy\""
      ]
     },
     "metadata": {},
     "output_type": "display_data"
    }
   ],
   "source": [
    "library(minfi)\n",
    "wd_path <- getwd()\n",
    "##filepath to folder of sample liver 450k array data\n",
    "basepath <- paste(wd_path,\"GSE69852_copy\",sep=\"/\")\n",
    "basepath"
   ]
  },
  {
   "cell_type": "markdown",
   "metadata": {},
   "source": [
    "## Read in raw array data and associated sample information\n",
    "\n",
    "Read in the data from the samplesheet corresponding to these samples. Example data is from [Huse et al. 2015](https://www.ncbi.nlm.nih.gov/pmc/articles/PMC4654795/) available from GEO under accession number [GSE69852](https://www.ncbi.nlm.nih.gov/geo/query/acc.cgi?acc=GSE69852).\n",
    "\n",
    "Phenotype data for age and sex were added manually to the sample sheet for this exercise. The adult ages are NOT exact for each individual, but rather represent the average age of the adults who were described as \"55 to 62 year olds.\""
   ]
  },
  {
   "cell_type": "code",
   "execution_count": 2,
   "metadata": {},
   "outputs": [
    {
     "name": "stderr",
     "output_type": "stream",
     "text": [
      "[read.metharray.sheet] Found the following CSV files:\n"
     ]
    },
    {
     "name": "stdout",
     "output_type": "stream",
     "text": [
      "[1] \"C:/Users/Alanna/Documents/Life Epigenetics/BumphunterBenchmarksR/GSE69852_copy/samplesheet.csv\"\n"
     ]
    },
    {
     "data": {
      "text/html": [
       "<table>\n",
       "<thead><tr><th scope=col>GSM_ID</th><th scope=col>Sample_Name</th><th scope=col>Sex</th><th scope=col>Age</th><th scope=col>Array</th><th scope=col>Slide</th><th scope=col>Basename</th></tr></thead>\n",
       "<tbody>\n",
       "\t<tr><td>GSM1711360                                                                                                 </td><td>AdultLiver1                                                                                                </td><td>Male                                                                                                       </td><td>58                                                                                                         </td><td>R02C01                                                                                                     </td><td>9247377093                                                                                                 </td><td>C:/Users/Alanna/Documents/Life Epigenetics/BumphunterBenchmarksR/GSE69852_copy/GSM1711360_9247377093_R02C01</td></tr>\n",
       "\t<tr><td>GSM1711361                                                                                                 </td><td>AdultLiver2                                                                                                </td><td>Male                                                                                                       </td><td>58                                                                                                         </td><td>R03C01                                                                                                     </td><td>9247377093                                                                                                 </td><td>C:/Users/Alanna/Documents/Life Epigenetics/BumphunterBenchmarksR/GSE69852_copy/GSM1711361_9247377093_R03C01</td></tr>\n",
       "\t<tr><td>GSM1711362                                                                                                 </td><td>AdultLiver3                                                                                                </td><td>Male                                                                                                       </td><td>58                                                                                                         </td><td>R06C02                                                                                                     </td><td>9247377093                                                                                                 </td><td>C:/Users/Alanna/Documents/Life Epigenetics/BumphunterBenchmarksR/GSE69852_copy/GSM1711362_9247377093_R06C02</td></tr>\n",
       "\t<tr><td>GSM1711363                                                                                                 </td><td>FetalLiver1                                                                                                </td><td>Male                                                                                                       </td><td> 0                                                                                                         </td><td>R04C02                                                                                                     </td><td>9247377085                                                                                                 </td><td>C:/Users/Alanna/Documents/Life Epigenetics/BumphunterBenchmarksR/GSE69852_copy/GSM1711363_9247377085_R04C02</td></tr>\n",
       "\t<tr><td>GSM1711364                                                                                                 </td><td>FetalLiver2                                                                                                </td><td>Male                                                                                                       </td><td> 0                                                                                                         </td><td>R05C01                                                                                                     </td><td>9247377093                                                                                                 </td><td>C:/Users/Alanna/Documents/Life Epigenetics/BumphunterBenchmarksR/GSE69852_copy/GSM1711364_9247377093_R05C01</td></tr>\n",
       "\t<tr><td>GSM1711365                                                                                                 </td><td>FetalLiver3                                                                                                </td><td>Male                                                                                                       </td><td> 0                                                                                                         </td><td>R02C02                                                                                                     </td><td>9247377093                                                                                                 </td><td>C:/Users/Alanna/Documents/Life Epigenetics/BumphunterBenchmarksR/GSE69852_copy/GSM1711365_9247377093_R02C02</td></tr>\n",
       "</tbody>\n",
       "</table>\n"
      ],
      "text/latex": [
       "\\begin{tabular}{r|lllllll}\n",
       " GSM\\_ID & Sample\\_Name & Sex & Age & Array & Slide & Basename\\\\\n",
       "\\hline\n",
       "\t GSM1711360                                                                                                        & AdultLiver1                                                                                                       & Male                                                                                                              & 58                                                                                                                & R02C01                                                                                                            & 9247377093                                                                                                        & C:/Users/Alanna/Documents/Life Epigenetics/BumphunterBenchmarksR/GSE69852\\_copy/GSM1711360\\_9247377093\\_R02C01\\\\\n",
       "\t GSM1711361                                                                                                        & AdultLiver2                                                                                                       & Male                                                                                                              & 58                                                                                                                & R03C01                                                                                                            & 9247377093                                                                                                        & C:/Users/Alanna/Documents/Life Epigenetics/BumphunterBenchmarksR/GSE69852\\_copy/GSM1711361\\_9247377093\\_R03C01\\\\\n",
       "\t GSM1711362                                                                                                        & AdultLiver3                                                                                                       & Male                                                                                                              & 58                                                                                                                & R06C02                                                                                                            & 9247377093                                                                                                        & C:/Users/Alanna/Documents/Life Epigenetics/BumphunterBenchmarksR/GSE69852\\_copy/GSM1711362\\_9247377093\\_R06C02\\\\\n",
       "\t GSM1711363                                                                                                        & FetalLiver1                                                                                                       & Male                                                                                                              &  0                                                                                                                & R04C02                                                                                                            & 9247377085                                                                                                        & C:/Users/Alanna/Documents/Life Epigenetics/BumphunterBenchmarksR/GSE69852\\_copy/GSM1711363\\_9247377085\\_R04C02\\\\\n",
       "\t GSM1711364                                                                                                        & FetalLiver2                                                                                                       & Male                                                                                                              &  0                                                                                                                & R05C01                                                                                                            & 9247377093                                                                                                        & C:/Users/Alanna/Documents/Life Epigenetics/BumphunterBenchmarksR/GSE69852\\_copy/GSM1711364\\_9247377093\\_R05C01\\\\\n",
       "\t GSM1711365                                                                                                        & FetalLiver3                                                                                                       & Male                                                                                                              &  0                                                                                                                & R02C02                                                                                                            & 9247377093                                                                                                        & C:/Users/Alanna/Documents/Life Epigenetics/BumphunterBenchmarksR/GSE69852\\_copy/GSM1711365\\_9247377093\\_R02C02\\\\\n",
       "\\end{tabular}\n"
      ],
      "text/markdown": [
       "\n",
       "GSM_ID | Sample_Name | Sex | Age | Array | Slide | Basename | \n",
       "|---|---|---|---|---|---|\n",
       "| GSM1711360                                                                                                  | AdultLiver1                                                                                                 | Male                                                                                                        | 58                                                                                                          | R02C01                                                                                                      | 9247377093                                                                                                  | C:/Users/Alanna/Documents/Life Epigenetics/BumphunterBenchmarksR/GSE69852_copy/GSM1711360_9247377093_R02C01 | \n",
       "| GSM1711361                                                                                                  | AdultLiver2                                                                                                 | Male                                                                                                        | 58                                                                                                          | R03C01                                                                                                      | 9247377093                                                                                                  | C:/Users/Alanna/Documents/Life Epigenetics/BumphunterBenchmarksR/GSE69852_copy/GSM1711361_9247377093_R03C01 | \n",
       "| GSM1711362                                                                                                  | AdultLiver3                                                                                                 | Male                                                                                                        | 58                                                                                                          | R06C02                                                                                                      | 9247377093                                                                                                  | C:/Users/Alanna/Documents/Life Epigenetics/BumphunterBenchmarksR/GSE69852_copy/GSM1711362_9247377093_R06C02 | \n",
       "| GSM1711363                                                                                                  | FetalLiver1                                                                                                 | Male                                                                                                        |  0                                                                                                          | R04C02                                                                                                      | 9247377085                                                                                                  | C:/Users/Alanna/Documents/Life Epigenetics/BumphunterBenchmarksR/GSE69852_copy/GSM1711363_9247377085_R04C02 | \n",
       "| GSM1711364                                                                                                  | FetalLiver2                                                                                                 | Male                                                                                                        |  0                                                                                                          | R05C01                                                                                                      | 9247377093                                                                                                  | C:/Users/Alanna/Documents/Life Epigenetics/BumphunterBenchmarksR/GSE69852_copy/GSM1711364_9247377093_R05C01 | \n",
       "| GSM1711365                                                                                                  | FetalLiver3                                                                                                 | Male                                                                                                        |  0                                                                                                          | R02C02                                                                                                      | 9247377093                                                                                                  | C:/Users/Alanna/Documents/Life Epigenetics/BumphunterBenchmarksR/GSE69852_copy/GSM1711365_9247377093_R02C02 | \n",
       "\n",
       "\n"
      ],
      "text/plain": [
       "  GSM_ID     Sample_Name Sex  Age Array  Slide     \n",
       "1 GSM1711360 AdultLiver1 Male 58  R02C01 9247377093\n",
       "2 GSM1711361 AdultLiver2 Male 58  R03C01 9247377093\n",
       "3 GSM1711362 AdultLiver3 Male 58  R06C02 9247377093\n",
       "4 GSM1711363 FetalLiver1 Male  0  R04C02 9247377085\n",
       "5 GSM1711364 FetalLiver2 Male  0  R05C01 9247377093\n",
       "6 GSM1711365 FetalLiver3 Male  0  R02C02 9247377093\n",
       "  Basename                                                                                                   \n",
       "1 C:/Users/Alanna/Documents/Life Epigenetics/BumphunterBenchmarksR/GSE69852_copy/GSM1711360_9247377093_R02C01\n",
       "2 C:/Users/Alanna/Documents/Life Epigenetics/BumphunterBenchmarksR/GSE69852_copy/GSM1711361_9247377093_R03C01\n",
       "3 C:/Users/Alanna/Documents/Life Epigenetics/BumphunterBenchmarksR/GSE69852_copy/GSM1711362_9247377093_R06C02\n",
       "4 C:/Users/Alanna/Documents/Life Epigenetics/BumphunterBenchmarksR/GSE69852_copy/GSM1711363_9247377085_R04C02\n",
       "5 C:/Users/Alanna/Documents/Life Epigenetics/BumphunterBenchmarksR/GSE69852_copy/GSM1711364_9247377093_R05C01\n",
       "6 C:/Users/Alanna/Documents/Life Epigenetics/BumphunterBenchmarksR/GSE69852_copy/GSM1711365_9247377093_R02C02"
      ]
     },
     "metadata": {},
     "output_type": "display_data"
    }
   ],
   "source": [
    "targets <- read.metharray.sheet(basepath)\n",
    "targets"
   ]
  },
  {
   "cell_type": "code",
   "execution_count": 3,
   "metadata": {},
   "outputs": [],
   "source": [
    "##Read the raw IDAT file intensities into a red-green channel dataset\n",
    "RGset <- read.metharray.exp(targets=targets)"
   ]
  },
  {
   "cell_type": "code",
   "execution_count": 4,
   "metadata": {},
   "outputs": [
    {
     "data": {
      "text/plain": [
       "DataFrame with 6 rows and 6 columns\n",
       "                                  GSM_ID Sample_Name         Sex       Age\n",
       "                             <character> <character> <character> <integer>\n",
       "GSM1711360_9247377093_R02C01  GSM1711360 AdultLiver1        Male        58\n",
       "GSM1711361_9247377093_R03C01  GSM1711361 AdultLiver2        Male        58\n",
       "GSM1711362_9247377093_R06C02  GSM1711362 AdultLiver3        Male        58\n",
       "GSM1711363_9247377085_R04C02  GSM1711363 FetalLiver1        Male         0\n",
       "GSM1711364_9247377093_R05C01  GSM1711364 FetalLiver2        Male         0\n",
       "GSM1711365_9247377093_R02C02  GSM1711365 FetalLiver3        Male         0\n",
       "                                   Array       Slide\n",
       "                             <character> <character>\n",
       "GSM1711360_9247377093_R02C01      R02C01  9247377093\n",
       "GSM1711361_9247377093_R03C01      R03C01  9247377093\n",
       "GSM1711362_9247377093_R06C02      R06C02  9247377093\n",
       "GSM1711363_9247377085_R04C02      R04C02  9247377085\n",
       "GSM1711364_9247377093_R05C01      R05C01  9247377093\n",
       "GSM1711365_9247377093_R02C02      R02C02  9247377093"
      ]
     },
     "metadata": {},
     "output_type": "display_data"
    }
   ],
   "source": [
    "##Explore the phenotypes associated with these samples\n",
    "phenoData <- pData(RGset)\n",
    "phenoData[,1:6]"
   ]
  },
  {
   "cell_type": "code",
   "execution_count": 4,
   "metadata": {},
   "outputs": [
    {
     "name": "stderr",
     "output_type": "stream",
     "text": [
      "Loading required package: IlluminaHumanMethylation450kmanifest\n"
     ]
    },
    {
     "data": {
      "text/plain": [
       "IlluminaMethylationManifest object\n",
       "Annotation\n",
       "  array: IlluminaHumanMethylation450k\n",
       "Number of type I probes: 135476 \n",
       "Number of type II probes: 350036 \n",
       "Number of control probes: 850 \n",
       "Number of SNP type I probes: 25 \n",
       "Number of SNP type II probes: 40 "
      ]
     },
     "metadata": {},
     "output_type": "display_data"
    }
   ],
   "source": [
    " ##Load manifest from Bioconductor annotation package for Illumina 450k array: IlluminaHumanMethylation450kmanifest\n",
    "manifest <- getManifest(RGset)\n",
    "manifest"
   ]
  },
  {
   "cell_type": "code",
   "execution_count": 5,
   "metadata": {},
   "outputs": [
    {
     "data": {
      "text/plain": [
       "DataFrame with 6 rows and 8 columns\n",
       "         Name    AddressA    AddressB       Color       NextBase\n",
       "  <character> <character> <character> <character> <DNAStringSet>\n",
       "1  cg00050873    32735311    31717405         Red              A\n",
       "2  cg00212031    29674443    38703326         Red              T\n",
       "3  cg00213748    30703409    36767301         Red              A\n",
       "4  cg00214611    69792329    46723459         Red              A\n",
       "5  cg00455876    27653438    69732350         Red              A\n",
       "6  cg01707559    45652402    64689504         Red              A\n",
       "                ProbeSeqA               ProbeSeqB      nCpG\n",
       "           <DNAStringSet>          <DNAStringSet> <integer>\n",
       "1 ACAAAAAAAC...ATAAACCCCA ACGAAAAAAC...ATAAACCCCG         2\n",
       "2 CCCAATTAAC...AAAACATACA CCCAATTAAC...AAAACGTACG         4\n",
       "3 TTTTAACACC...AAAAAAAACA TTTTAACGCC...AAAAAAAACG         3\n",
       "4 CTAACTTCCA...AACACAAACA CTAACTTCCG...AACGCGAACG         5\n",
       "5 AACTCTAAAC...AAAAAACTCA AACTCTAAAC...AAAAAACTCG         2\n",
       "6 ACAAATTAAA...ACAAAAAACA GCGAATTAAA...ACAAAAAACG         6"
      ]
     },
     "metadata": {},
     "output_type": "display_data"
    }
   ],
   "source": [
    "##Take a look at the data associated with each probe\n",
    "head(getProbeInfo(manifest))"
   ]
  },
  {
   "cell_type": "markdown",
   "metadata": {},
   "source": [
    "## Normalize and process raw data\n",
    "\n",
    "<b>Quantile processing</b> is recommended when you don't expect global differences, like those found between tissue types or in cancer vs. normal comparisons. Given that these arrays all use healthy liver tissue samples, quantile processing is a reasonable option from the <span style=\"font-family:Courier\">minfi</span> normalization methods available.\n",
    "\n",
    "Our methylation pipeline has primarily been using <b>noob</b> to normalize raw data, however, so that <span style=\"font-family:Courier\">minfi</span> method will also be employed here to see if the normalization method impacts the size or location of DMRs found by <span style=\"font-family:Courier\">bumphunter</span>."
   ]
  },
  {
   "cell_type": "code",
   "execution_count": 6,
   "metadata": {},
   "outputs": [
    {
     "name": "stderr",
     "output_type": "stream",
     "text": [
      "[preprocessQuantile] Mapping to genome.\n",
      "Loading required package: IlluminaHumanMethylation450kanno.ilmn12.hg19\n",
      "[preprocessQuantile] Fixing outliers.\n",
      "[preprocessQuantile] Quantile normalizing.\n"
     ]
    },
    {
     "data": {
      "text/plain": [
       "class: GenomicRatioSet \n",
       "dim: 485512 6 \n",
       "metadata(0):\n",
       "assays(2): M CN\n",
       "rownames(485512): cg13869341 cg14008030 ... cg08265308 cg14273923\n",
       "rowData names(0):\n",
       "colnames(6): GSM1711360_9247377093_R02C01 GSM1711361_9247377093_R03C01\n",
       "  ... GSM1711364_9247377093_R05C01 GSM1711365_9247377093_R02C02\n",
       "colData names(8): GSM_ID Sample_Name ... Basename filenames\n",
       "Annotation\n",
       "  array: IlluminaHumanMethylation450k\n",
       "  annotation: ilmn12.hg19\n",
       "Preprocessing\n",
       "  Method: Raw (no normalization or bg correction)\n",
       "  minfi version: 1.28.0\n",
       "  Manifest version: 0.4.0"
      ]
     },
     "metadata": {},
     "output_type": "display_data"
    }
   ],
   "source": [
    "##Process the red-green intensities into Beta and M-values mapped to their genomic locations\n",
    "    ##fixes outliers and normalizes data through stratified quantile normalization\n",
    "    ##applies process to methylated and unmethylated intensities separately\n",
    "    ##normalizes Type II probes first and then uses that as a reference distribution for the Type I probes\n",
    "GRSet_quantile <- preprocessQuantile(RGset,sex=\"M\") \n",
    "GRSet_quantile"
   ]
  },
  {
   "cell_type": "code",
   "execution_count": 7,
   "metadata": {},
   "outputs": [
    {
     "data": {
      "text/plain": [
       "class: MethylSet \n",
       "dim: 485512 6 \n",
       "metadata(0):\n",
       "assays(2): Meth Unmeth\n",
       "rownames(485512): cg00050873 cg00212031 ... ch.22.47579720R\n",
       "  ch.22.48274842R\n",
       "rowData names(0):\n",
       "colnames(6): GSM1711360_9247377093_R02C01 GSM1711361_9247377093_R03C01\n",
       "  ... GSM1711364_9247377093_R05C01 GSM1711365_9247377093_R02C02\n",
       "colData names(8): GSM_ID Sample_Name ... Basename filenames\n",
       "Annotation\n",
       "  array: IlluminaHumanMethylation450k\n",
       "  annotation: ilmn12.hg19\n",
       "Preprocessing\n",
       "  Method: NA\n",
       "  minfi version: NA\n",
       "  Manifest version: NA"
      ]
     },
     "metadata": {},
     "output_type": "display_data"
    }
   ],
   "source": [
    "##Noob is a background correction method with dye-bias normalization for the Illumina Infinium HumanMethylation450 platform\n",
    "MSet_noob <- preprocessNoob(RGset)\n",
    "MSet_noob"
   ]
  },
  {
   "cell_type": "code",
   "execution_count": 8,
   "metadata": {},
   "outputs": [
    {
     "data": {
      "text/plain": [
       "class: GenomicRatioSet \n",
       "dim: 485512 6 \n",
       "metadata(0):\n",
       "assays(2): Beta CN\n",
       "rownames(485512): cg13869341 cg14008030 ... cg08265308 cg14273923\n",
       "rowData names(0):\n",
       "colnames(6): GSM1711360_9247377093_R02C01 GSM1711361_9247377093_R03C01\n",
       "  ... GSM1711364_9247377093_R05C01 GSM1711365_9247377093_R02C02\n",
       "colData names(8): GSM_ID Sample_Name ... Basename filenames\n",
       "Annotation\n",
       "  array: IlluminaHumanMethylation450k\n",
       "  annotation: ilmn12.hg19\n",
       "Preprocessing\n",
       "  Method: NA\n",
       "  minfi version: NA\n",
       "  Manifest version: NA"
      ]
     },
     "metadata": {},
     "output_type": "display_data"
    }
   ],
   "source": [
    "##Noob preprocessing creates a MethylSet class object, which is not yet mapped to the genome\n",
    "MSet_noob_mapped <- mapToGenome(MSet_noob)\n",
    "\n",
    "##After being mapped, it still needs to be converted to a GenomicRatioSet before it can be input to bumphunter()\n",
    "GRSet_noob <- ratioConvert(MSet_noob_mapped)\n",
    "GRSet_noob"
   ]
  },
  {
   "cell_type": "markdown",
   "metadata": {},
   "source": [
    "## Prepare phenotype design matrix for bumphunter input\n",
    "\n",
    "All of the iterations of <span style=\"font-family:Courier\">bumphunter</span> run below are using the same sample pool with the same phenotype designations, so this design matrix can be used in the function every time. In this dataset, it's age (adult vs. fetal). Because the ages aren't exact for either group, this is more like a binary design matrix than a continuous variable."
   ]
  },
  {
   "cell_type": "code",
   "execution_count": 9,
   "metadata": {},
   "outputs": [
    {
     "data": {
      "text/html": [
       "<table>\n",
       "<thead><tr><th></th><th scope=col>(Intercept)</th><th scope=col>pheno.design</th></tr></thead>\n",
       "<tbody>\n",
       "\t<tr><th scope=row>1</th><td>1 </td><td>58</td></tr>\n",
       "\t<tr><th scope=row>2</th><td>1 </td><td>58</td></tr>\n",
       "\t<tr><th scope=row>3</th><td>1 </td><td>58</td></tr>\n",
       "\t<tr><th scope=row>4</th><td>1 </td><td> 0</td></tr>\n",
       "\t<tr><th scope=row>5</th><td>1 </td><td> 0</td></tr>\n",
       "\t<tr><th scope=row>6</th><td>1 </td><td> 0</td></tr>\n",
       "</tbody>\n",
       "</table>\n"
      ],
      "text/latex": [
       "\\begin{tabular}{r|ll}\n",
       "  & (Intercept) & pheno.design\\\\\n",
       "\\hline\n",
       "\t1 & 1  & 58\\\\\n",
       "\t2 & 1  & 58\\\\\n",
       "\t3 & 1  & 58\\\\\n",
       "\t4 & 1  &  0\\\\\n",
       "\t5 & 1  &  0\\\\\n",
       "\t6 & 1  &  0\\\\\n",
       "\\end{tabular}\n"
      ],
      "text/markdown": [
       "\n",
       "| <!--/--> | (Intercept) | pheno.design | \n",
       "|---|---|---|---|---|---|\n",
       "| 1 | 1  | 58 | \n",
       "| 2 | 1  | 58 | \n",
       "| 3 | 1  | 58 | \n",
       "| 4 | 1  |  0 | \n",
       "| 5 | 1  |  0 | \n",
       "| 6 | 1  |  0 | \n",
       "\n",
       "\n"
      ],
      "text/plain": [
       "  (Intercept) pheno.design\n",
       "1 1           58          \n",
       "2 1           58          \n",
       "3 1           58          \n",
       "4 1            0          \n",
       "5 1            0          \n",
       "6 1            0          "
      ]
     },
     "metadata": {},
     "output_type": "display_data"
    }
   ],
   "source": [
    "pheno.design <- pData(GRSet_quantile)$Age\n",
    "designMatrix <- model.matrix(~ pheno.design)\n",
    "designMatrix"
   ]
  },
  {
   "cell_type": "markdown",
   "metadata": {},
   "source": [
    "## All tested parameter combinations\n",
    "\n",
    "The following is a table that outlines the 32 different iterations of <span style=\"font-family:Courier\">bumphunter</span> that will be run to see how the DMRs detected may change in size, location, or quantity within the same sample set as parameters are adjusted. First the data will be normalized with two different methods, next bumphunter will use either the Beta or M measures for methylation, then the <span style=\"font-family:Courier\">maxGap</span> value that determines the maximum genomic distance allowed between CpGs in the same cluster, and finally the function will be allowed to pick the cutoff value for bumps at either the 95th percentile or 99th percentile of the regression data.\n",
    "\n",
    "![Table of 32 different parameter combinations to be tested](FunctionTestDesign.png)\n",
    "\n",
    "A recent [comparative study by Mallik et al.](https://academic.oup.com/bib/advance-article/doi/10.1093/bib/bby085/5096828#121447126) found that <span style=\"font-family:Courier\">bumphunter</span> performed best in correctly identifying DMRs in their simulated dataset when <span style=\"font-family:Courier\">maxGap=250</span> and <span style=\"font-family:Courier\">pickCutoff</span> was set to the 95th percentile."
   ]
  },
  {
   "cell_type": "code",
   "execution_count": 10,
   "metadata": {},
   "outputs": [],
   "source": [
    "##Set up vectors for each parameter setting\n",
    "normalizations <- c(\"Quantile\",\"Noob\")\n",
    "measures <- c(\"Beta\",\"M\")\n",
    "gaps <- c(200,250,500,750)\n",
    "cutoffs <- c(0.95,0.99)"
   ]
  },
  {
   "cell_type": "code",
   "execution_count": 11,
   "metadata": {},
   "outputs": [
    {
     "data": {
      "text/html": [
       "<table>\n",
       "<thead><tr><th scope=col>Normalization</th><th scope=col>Measure</th><th scope=col>MaxGap</th><th scope=col>CutoffQ</th><th scope=col>NumberBumps</th><th scope=col>CutoffValue</th><th scope=col>chr1</th><th scope=col>chr2</th><th scope=col>chr3</th><th scope=col>chr4</th><th scope=col>...</th><th scope=col>chr15</th><th scope=col>chr16</th><th scope=col>chr17</th><th scope=col>chr18</th><th scope=col>chr19</th><th scope=col>chr20</th><th scope=col>chr21</th><th scope=col>chr22</th><th scope=col>chrX</th><th scope=col>chrY</th></tr></thead>\n",
       "<tbody>\n",
       "\t<tr><td>Quantile</td><td>Beta    </td><td>200     </td><td>0.95    </td><td>0       </td><td>0       </td><td>0       </td><td>0       </td><td>0       </td><td>0       </td><td>...     </td><td>0       </td><td>0       </td><td>0       </td><td>0       </td><td>0       </td><td>0       </td><td>0       </td><td>0       </td><td>0       </td><td>0       </td></tr>\n",
       "\t<tr><td>Quantile</td><td>Beta    </td><td>200     </td><td>0.99    </td><td>0       </td><td>0       </td><td>0       </td><td>0       </td><td>0       </td><td>0       </td><td>...     </td><td>0       </td><td>0       </td><td>0       </td><td>0       </td><td>0       </td><td>0       </td><td>0       </td><td>0       </td><td>0       </td><td>0       </td></tr>\n",
       "\t<tr><td>Quantile</td><td>Beta    </td><td>250     </td><td>0.95    </td><td>0       </td><td>0       </td><td>0       </td><td>0       </td><td>0       </td><td>0       </td><td>...     </td><td>0       </td><td>0       </td><td>0       </td><td>0       </td><td>0       </td><td>0       </td><td>0       </td><td>0       </td><td>0       </td><td>0       </td></tr>\n",
       "\t<tr><td>Quantile</td><td>Beta    </td><td>250     </td><td>0.99    </td><td>0       </td><td>0       </td><td>0       </td><td>0       </td><td>0       </td><td>0       </td><td>...     </td><td>0       </td><td>0       </td><td>0       </td><td>0       </td><td>0       </td><td>0       </td><td>0       </td><td>0       </td><td>0       </td><td>0       </td></tr>\n",
       "\t<tr><td>Quantile</td><td>Beta    </td><td>500     </td><td>0.95    </td><td>0       </td><td>0       </td><td>0       </td><td>0       </td><td>0       </td><td>0       </td><td>...     </td><td>0       </td><td>0       </td><td>0       </td><td>0       </td><td>0       </td><td>0       </td><td>0       </td><td>0       </td><td>0       </td><td>0       </td></tr>\n",
       "\t<tr><td>Quantile</td><td>Beta    </td><td>500     </td><td>0.99    </td><td>0       </td><td>0       </td><td>0       </td><td>0       </td><td>0       </td><td>0       </td><td>...     </td><td>0       </td><td>0       </td><td>0       </td><td>0       </td><td>0       </td><td>0       </td><td>0       </td><td>0       </td><td>0       </td><td>0       </td></tr>\n",
       "\t<tr><td>Quantile</td><td>Beta    </td><td>750     </td><td>0.95    </td><td>0       </td><td>0       </td><td>0       </td><td>0       </td><td>0       </td><td>0       </td><td>...     </td><td>0       </td><td>0       </td><td>0       </td><td>0       </td><td>0       </td><td>0       </td><td>0       </td><td>0       </td><td>0       </td><td>0       </td></tr>\n",
       "\t<tr><td>Quantile</td><td>Beta    </td><td>750     </td><td>0.99    </td><td>0       </td><td>0       </td><td>0       </td><td>0       </td><td>0       </td><td>0       </td><td>...     </td><td>0       </td><td>0       </td><td>0       </td><td>0       </td><td>0       </td><td>0       </td><td>0       </td><td>0       </td><td>0       </td><td>0       </td></tr>\n",
       "\t<tr><td>Quantile</td><td>M       </td><td>200     </td><td>0.95    </td><td>0       </td><td>0       </td><td>0       </td><td>0       </td><td>0       </td><td>0       </td><td>...     </td><td>0       </td><td>0       </td><td>0       </td><td>0       </td><td>0       </td><td>0       </td><td>0       </td><td>0       </td><td>0       </td><td>0       </td></tr>\n",
       "\t<tr><td>Quantile</td><td>M       </td><td>200     </td><td>0.99    </td><td>0       </td><td>0       </td><td>0       </td><td>0       </td><td>0       </td><td>0       </td><td>...     </td><td>0       </td><td>0       </td><td>0       </td><td>0       </td><td>0       </td><td>0       </td><td>0       </td><td>0       </td><td>0       </td><td>0       </td></tr>\n",
       "\t<tr><td>Quantile</td><td>M       </td><td>250     </td><td>0.95    </td><td>0       </td><td>0       </td><td>0       </td><td>0       </td><td>0       </td><td>0       </td><td>...     </td><td>0       </td><td>0       </td><td>0       </td><td>0       </td><td>0       </td><td>0       </td><td>0       </td><td>0       </td><td>0       </td><td>0       </td></tr>\n",
       "\t<tr><td>Quantile</td><td>M       </td><td>250     </td><td>0.99    </td><td>0       </td><td>0       </td><td>0       </td><td>0       </td><td>0       </td><td>0       </td><td>...     </td><td>0       </td><td>0       </td><td>0       </td><td>0       </td><td>0       </td><td>0       </td><td>0       </td><td>0       </td><td>0       </td><td>0       </td></tr>\n",
       "\t<tr><td>Quantile</td><td>M       </td><td>500     </td><td>0.95    </td><td>0       </td><td>0       </td><td>0       </td><td>0       </td><td>0       </td><td>0       </td><td>...     </td><td>0       </td><td>0       </td><td>0       </td><td>0       </td><td>0       </td><td>0       </td><td>0       </td><td>0       </td><td>0       </td><td>0       </td></tr>\n",
       "\t<tr><td>Quantile</td><td>M       </td><td>500     </td><td>0.99    </td><td>0       </td><td>0       </td><td>0       </td><td>0       </td><td>0       </td><td>0       </td><td>...     </td><td>0       </td><td>0       </td><td>0       </td><td>0       </td><td>0       </td><td>0       </td><td>0       </td><td>0       </td><td>0       </td><td>0       </td></tr>\n",
       "\t<tr><td>Quantile</td><td>M       </td><td>750     </td><td>0.95    </td><td>0       </td><td>0       </td><td>0       </td><td>0       </td><td>0       </td><td>0       </td><td>...     </td><td>0       </td><td>0       </td><td>0       </td><td>0       </td><td>0       </td><td>0       </td><td>0       </td><td>0       </td><td>0       </td><td>0       </td></tr>\n",
       "\t<tr><td>Quantile</td><td>M       </td><td>750     </td><td>0.99    </td><td>0       </td><td>0       </td><td>0       </td><td>0       </td><td>0       </td><td>0       </td><td>...     </td><td>0       </td><td>0       </td><td>0       </td><td>0       </td><td>0       </td><td>0       </td><td>0       </td><td>0       </td><td>0       </td><td>0       </td></tr>\n",
       "\t<tr><td>Noob    </td><td>Beta    </td><td>200     </td><td>0.95    </td><td>0       </td><td>0       </td><td>0       </td><td>0       </td><td>0       </td><td>0       </td><td>...     </td><td>0       </td><td>0       </td><td>0       </td><td>0       </td><td>0       </td><td>0       </td><td>0       </td><td>0       </td><td>0       </td><td>0       </td></tr>\n",
       "\t<tr><td>Noob    </td><td>Beta    </td><td>200     </td><td>0.99    </td><td>0       </td><td>0       </td><td>0       </td><td>0       </td><td>0       </td><td>0       </td><td>...     </td><td>0       </td><td>0       </td><td>0       </td><td>0       </td><td>0       </td><td>0       </td><td>0       </td><td>0       </td><td>0       </td><td>0       </td></tr>\n",
       "\t<tr><td>Noob    </td><td>Beta    </td><td>250     </td><td>0.95    </td><td>0       </td><td>0       </td><td>0       </td><td>0       </td><td>0       </td><td>0       </td><td>...     </td><td>0       </td><td>0       </td><td>0       </td><td>0       </td><td>0       </td><td>0       </td><td>0       </td><td>0       </td><td>0       </td><td>0       </td></tr>\n",
       "\t<tr><td>Noob    </td><td>Beta    </td><td>250     </td><td>0.99    </td><td>0       </td><td>0       </td><td>0       </td><td>0       </td><td>0       </td><td>0       </td><td>...     </td><td>0       </td><td>0       </td><td>0       </td><td>0       </td><td>0       </td><td>0       </td><td>0       </td><td>0       </td><td>0       </td><td>0       </td></tr>\n",
       "\t<tr><td>Noob    </td><td>Beta    </td><td>500     </td><td>0.95    </td><td>0       </td><td>0       </td><td>0       </td><td>0       </td><td>0       </td><td>0       </td><td>...     </td><td>0       </td><td>0       </td><td>0       </td><td>0       </td><td>0       </td><td>0       </td><td>0       </td><td>0       </td><td>0       </td><td>0       </td></tr>\n",
       "\t<tr><td>Noob    </td><td>Beta    </td><td>500     </td><td>0.99    </td><td>0       </td><td>0       </td><td>0       </td><td>0       </td><td>0       </td><td>0       </td><td>...     </td><td>0       </td><td>0       </td><td>0       </td><td>0       </td><td>0       </td><td>0       </td><td>0       </td><td>0       </td><td>0       </td><td>0       </td></tr>\n",
       "\t<tr><td>Noob    </td><td>Beta    </td><td>750     </td><td>0.95    </td><td>0       </td><td>0       </td><td>0       </td><td>0       </td><td>0       </td><td>0       </td><td>...     </td><td>0       </td><td>0       </td><td>0       </td><td>0       </td><td>0       </td><td>0       </td><td>0       </td><td>0       </td><td>0       </td><td>0       </td></tr>\n",
       "\t<tr><td>Noob    </td><td>Beta    </td><td>750     </td><td>0.99    </td><td>0       </td><td>0       </td><td>0       </td><td>0       </td><td>0       </td><td>0       </td><td>...     </td><td>0       </td><td>0       </td><td>0       </td><td>0       </td><td>0       </td><td>0       </td><td>0       </td><td>0       </td><td>0       </td><td>0       </td></tr>\n",
       "\t<tr><td>Noob    </td><td>M       </td><td>200     </td><td>0.95    </td><td>0       </td><td>0       </td><td>0       </td><td>0       </td><td>0       </td><td>0       </td><td>...     </td><td>0       </td><td>0       </td><td>0       </td><td>0       </td><td>0       </td><td>0       </td><td>0       </td><td>0       </td><td>0       </td><td>0       </td></tr>\n",
       "\t<tr><td>Noob    </td><td>M       </td><td>200     </td><td>0.99    </td><td>0       </td><td>0       </td><td>0       </td><td>0       </td><td>0       </td><td>0       </td><td>...     </td><td>0       </td><td>0       </td><td>0       </td><td>0       </td><td>0       </td><td>0       </td><td>0       </td><td>0       </td><td>0       </td><td>0       </td></tr>\n",
       "\t<tr><td>Noob    </td><td>M       </td><td>250     </td><td>0.95    </td><td>0       </td><td>0       </td><td>0       </td><td>0       </td><td>0       </td><td>0       </td><td>...     </td><td>0       </td><td>0       </td><td>0       </td><td>0       </td><td>0       </td><td>0       </td><td>0       </td><td>0       </td><td>0       </td><td>0       </td></tr>\n",
       "\t<tr><td>Noob    </td><td>M       </td><td>250     </td><td>0.99    </td><td>0       </td><td>0       </td><td>0       </td><td>0       </td><td>0       </td><td>0       </td><td>...     </td><td>0       </td><td>0       </td><td>0       </td><td>0       </td><td>0       </td><td>0       </td><td>0       </td><td>0       </td><td>0       </td><td>0       </td></tr>\n",
       "\t<tr><td>Noob    </td><td>M       </td><td>500     </td><td>0.95    </td><td>0       </td><td>0       </td><td>0       </td><td>0       </td><td>0       </td><td>0       </td><td>...     </td><td>0       </td><td>0       </td><td>0       </td><td>0       </td><td>0       </td><td>0       </td><td>0       </td><td>0       </td><td>0       </td><td>0       </td></tr>\n",
       "\t<tr><td>Noob    </td><td>M       </td><td>500     </td><td>0.99    </td><td>0       </td><td>0       </td><td>0       </td><td>0       </td><td>0       </td><td>0       </td><td>...     </td><td>0       </td><td>0       </td><td>0       </td><td>0       </td><td>0       </td><td>0       </td><td>0       </td><td>0       </td><td>0       </td><td>0       </td></tr>\n",
       "\t<tr><td>Noob    </td><td>M       </td><td>750     </td><td>0.95    </td><td>0       </td><td>0       </td><td>0       </td><td>0       </td><td>0       </td><td>0       </td><td>...     </td><td>0       </td><td>0       </td><td>0       </td><td>0       </td><td>0       </td><td>0       </td><td>0       </td><td>0       </td><td>0       </td><td>0       </td></tr>\n",
       "\t<tr><td>Noob    </td><td>M       </td><td>750     </td><td>0.99    </td><td>0       </td><td>0       </td><td>0       </td><td>0       </td><td>0       </td><td>0       </td><td>...     </td><td>0       </td><td>0       </td><td>0       </td><td>0       </td><td>0       </td><td>0       </td><td>0       </td><td>0       </td><td>0       </td><td>0       </td></tr>\n",
       "</tbody>\n",
       "</table>\n"
      ],
      "text/latex": [
       "\\begin{tabular}{r|llllllllllllllllllllllllllllll}\n",
       " Normalization & Measure & MaxGap & CutoffQ & NumberBumps & CutoffValue & chr1 & chr2 & chr3 & chr4 & ... & chr15 & chr16 & chr17 & chr18 & chr19 & chr20 & chr21 & chr22 & chrX & chrY\\\\\n",
       "\\hline\n",
       "\t Quantile & Beta     & 200      & 0.95     & 0        & 0        & 0        & 0        & 0        & 0        & ...      & 0        & 0        & 0        & 0        & 0        & 0        & 0        & 0        & 0        & 0       \\\\\n",
       "\t Quantile & Beta     & 200      & 0.99     & 0        & 0        & 0        & 0        & 0        & 0        & ...      & 0        & 0        & 0        & 0        & 0        & 0        & 0        & 0        & 0        & 0       \\\\\n",
       "\t Quantile & Beta     & 250      & 0.95     & 0        & 0        & 0        & 0        & 0        & 0        & ...      & 0        & 0        & 0        & 0        & 0        & 0        & 0        & 0        & 0        & 0       \\\\\n",
       "\t Quantile & Beta     & 250      & 0.99     & 0        & 0        & 0        & 0        & 0        & 0        & ...      & 0        & 0        & 0        & 0        & 0        & 0        & 0        & 0        & 0        & 0       \\\\\n",
       "\t Quantile & Beta     & 500      & 0.95     & 0        & 0        & 0        & 0        & 0        & 0        & ...      & 0        & 0        & 0        & 0        & 0        & 0        & 0        & 0        & 0        & 0       \\\\\n",
       "\t Quantile & Beta     & 500      & 0.99     & 0        & 0        & 0        & 0        & 0        & 0        & ...      & 0        & 0        & 0        & 0        & 0        & 0        & 0        & 0        & 0        & 0       \\\\\n",
       "\t Quantile & Beta     & 750      & 0.95     & 0        & 0        & 0        & 0        & 0        & 0        & ...      & 0        & 0        & 0        & 0        & 0        & 0        & 0        & 0        & 0        & 0       \\\\\n",
       "\t Quantile & Beta     & 750      & 0.99     & 0        & 0        & 0        & 0        & 0        & 0        & ...      & 0        & 0        & 0        & 0        & 0        & 0        & 0        & 0        & 0        & 0       \\\\\n",
       "\t Quantile & M        & 200      & 0.95     & 0        & 0        & 0        & 0        & 0        & 0        & ...      & 0        & 0        & 0        & 0        & 0        & 0        & 0        & 0        & 0        & 0       \\\\\n",
       "\t Quantile & M        & 200      & 0.99     & 0        & 0        & 0        & 0        & 0        & 0        & ...      & 0        & 0        & 0        & 0        & 0        & 0        & 0        & 0        & 0        & 0       \\\\\n",
       "\t Quantile & M        & 250      & 0.95     & 0        & 0        & 0        & 0        & 0        & 0        & ...      & 0        & 0        & 0        & 0        & 0        & 0        & 0        & 0        & 0        & 0       \\\\\n",
       "\t Quantile & M        & 250      & 0.99     & 0        & 0        & 0        & 0        & 0        & 0        & ...      & 0        & 0        & 0        & 0        & 0        & 0        & 0        & 0        & 0        & 0       \\\\\n",
       "\t Quantile & M        & 500      & 0.95     & 0        & 0        & 0        & 0        & 0        & 0        & ...      & 0        & 0        & 0        & 0        & 0        & 0        & 0        & 0        & 0        & 0       \\\\\n",
       "\t Quantile & M        & 500      & 0.99     & 0        & 0        & 0        & 0        & 0        & 0        & ...      & 0        & 0        & 0        & 0        & 0        & 0        & 0        & 0        & 0        & 0       \\\\\n",
       "\t Quantile & M        & 750      & 0.95     & 0        & 0        & 0        & 0        & 0        & 0        & ...      & 0        & 0        & 0        & 0        & 0        & 0        & 0        & 0        & 0        & 0       \\\\\n",
       "\t Quantile & M        & 750      & 0.99     & 0        & 0        & 0        & 0        & 0        & 0        & ...      & 0        & 0        & 0        & 0        & 0        & 0        & 0        & 0        & 0        & 0       \\\\\n",
       "\t Noob     & Beta     & 200      & 0.95     & 0        & 0        & 0        & 0        & 0        & 0        & ...      & 0        & 0        & 0        & 0        & 0        & 0        & 0        & 0        & 0        & 0       \\\\\n",
       "\t Noob     & Beta     & 200      & 0.99     & 0        & 0        & 0        & 0        & 0        & 0        & ...      & 0        & 0        & 0        & 0        & 0        & 0        & 0        & 0        & 0        & 0       \\\\\n",
       "\t Noob     & Beta     & 250      & 0.95     & 0        & 0        & 0        & 0        & 0        & 0        & ...      & 0        & 0        & 0        & 0        & 0        & 0        & 0        & 0        & 0        & 0       \\\\\n",
       "\t Noob     & Beta     & 250      & 0.99     & 0        & 0        & 0        & 0        & 0        & 0        & ...      & 0        & 0        & 0        & 0        & 0        & 0        & 0        & 0        & 0        & 0       \\\\\n",
       "\t Noob     & Beta     & 500      & 0.95     & 0        & 0        & 0        & 0        & 0        & 0        & ...      & 0        & 0        & 0        & 0        & 0        & 0        & 0        & 0        & 0        & 0       \\\\\n",
       "\t Noob     & Beta     & 500      & 0.99     & 0        & 0        & 0        & 0        & 0        & 0        & ...      & 0        & 0        & 0        & 0        & 0        & 0        & 0        & 0        & 0        & 0       \\\\\n",
       "\t Noob     & Beta     & 750      & 0.95     & 0        & 0        & 0        & 0        & 0        & 0        & ...      & 0        & 0        & 0        & 0        & 0        & 0        & 0        & 0        & 0        & 0       \\\\\n",
       "\t Noob     & Beta     & 750      & 0.99     & 0        & 0        & 0        & 0        & 0        & 0        & ...      & 0        & 0        & 0        & 0        & 0        & 0        & 0        & 0        & 0        & 0       \\\\\n",
       "\t Noob     & M        & 200      & 0.95     & 0        & 0        & 0        & 0        & 0        & 0        & ...      & 0        & 0        & 0        & 0        & 0        & 0        & 0        & 0        & 0        & 0       \\\\\n",
       "\t Noob     & M        & 200      & 0.99     & 0        & 0        & 0        & 0        & 0        & 0        & ...      & 0        & 0        & 0        & 0        & 0        & 0        & 0        & 0        & 0        & 0       \\\\\n",
       "\t Noob     & M        & 250      & 0.95     & 0        & 0        & 0        & 0        & 0        & 0        & ...      & 0        & 0        & 0        & 0        & 0        & 0        & 0        & 0        & 0        & 0       \\\\\n",
       "\t Noob     & M        & 250      & 0.99     & 0        & 0        & 0        & 0        & 0        & 0        & ...      & 0        & 0        & 0        & 0        & 0        & 0        & 0        & 0        & 0        & 0       \\\\\n",
       "\t Noob     & M        & 500      & 0.95     & 0        & 0        & 0        & 0        & 0        & 0        & ...      & 0        & 0        & 0        & 0        & 0        & 0        & 0        & 0        & 0        & 0       \\\\\n",
       "\t Noob     & M        & 500      & 0.99     & 0        & 0        & 0        & 0        & 0        & 0        & ...      & 0        & 0        & 0        & 0        & 0        & 0        & 0        & 0        & 0        & 0       \\\\\n",
       "\t Noob     & M        & 750      & 0.95     & 0        & 0        & 0        & 0        & 0        & 0        & ...      & 0        & 0        & 0        & 0        & 0        & 0        & 0        & 0        & 0        & 0       \\\\\n",
       "\t Noob     & M        & 750      & 0.99     & 0        & 0        & 0        & 0        & 0        & 0        & ...      & 0        & 0        & 0        & 0        & 0        & 0        & 0        & 0        & 0        & 0       \\\\\n",
       "\\end{tabular}\n"
      ],
      "text/markdown": [
       "\n",
       "Normalization | Measure | MaxGap | CutoffQ | NumberBumps | CutoffValue | chr1 | chr2 | chr3 | chr4 | ... | chr15 | chr16 | chr17 | chr18 | chr19 | chr20 | chr21 | chr22 | chrX | chrY | \n",
       "|---|---|---|---|---|---|---|---|---|---|---|---|---|---|---|---|---|---|---|---|---|---|---|---|---|---|---|---|---|---|---|---|\n",
       "| Quantile | Beta     | 200      | 0.95     | 0        | 0        | 0        | 0        | 0        | 0        | ...      | 0        | 0        | 0        | 0        | 0        | 0        | 0        | 0        | 0        | 0        | \n",
       "| Quantile | Beta     | 200      | 0.99     | 0        | 0        | 0        | 0        | 0        | 0        | ...      | 0        | 0        | 0        | 0        | 0        | 0        | 0        | 0        | 0        | 0        | \n",
       "| Quantile | Beta     | 250      | 0.95     | 0        | 0        | 0        | 0        | 0        | 0        | ...      | 0        | 0        | 0        | 0        | 0        | 0        | 0        | 0        | 0        | 0        | \n",
       "| Quantile | Beta     | 250      | 0.99     | 0        | 0        | 0        | 0        | 0        | 0        | ...      | 0        | 0        | 0        | 0        | 0        | 0        | 0        | 0        | 0        | 0        | \n",
       "| Quantile | Beta     | 500      | 0.95     | 0        | 0        | 0        | 0        | 0        | 0        | ...      | 0        | 0        | 0        | 0        | 0        | 0        | 0        | 0        | 0        | 0        | \n",
       "| Quantile | Beta     | 500      | 0.99     | 0        | 0        | 0        | 0        | 0        | 0        | ...      | 0        | 0        | 0        | 0        | 0        | 0        | 0        | 0        | 0        | 0        | \n",
       "| Quantile | Beta     | 750      | 0.95     | 0        | 0        | 0        | 0        | 0        | 0        | ...      | 0        | 0        | 0        | 0        | 0        | 0        | 0        | 0        | 0        | 0        | \n",
       "| Quantile | Beta     | 750      | 0.99     | 0        | 0        | 0        | 0        | 0        | 0        | ...      | 0        | 0        | 0        | 0        | 0        | 0        | 0        | 0        | 0        | 0        | \n",
       "| Quantile | M        | 200      | 0.95     | 0        | 0        | 0        | 0        | 0        | 0        | ...      | 0        | 0        | 0        | 0        | 0        | 0        | 0        | 0        | 0        | 0        | \n",
       "| Quantile | M        | 200      | 0.99     | 0        | 0        | 0        | 0        | 0        | 0        | ...      | 0        | 0        | 0        | 0        | 0        | 0        | 0        | 0        | 0        | 0        | \n",
       "| Quantile | M        | 250      | 0.95     | 0        | 0        | 0        | 0        | 0        | 0        | ...      | 0        | 0        | 0        | 0        | 0        | 0        | 0        | 0        | 0        | 0        | \n",
       "| Quantile | M        | 250      | 0.99     | 0        | 0        | 0        | 0        | 0        | 0        | ...      | 0        | 0        | 0        | 0        | 0        | 0        | 0        | 0        | 0        | 0        | \n",
       "| Quantile | M        | 500      | 0.95     | 0        | 0        | 0        | 0        | 0        | 0        | ...      | 0        | 0        | 0        | 0        | 0        | 0        | 0        | 0        | 0        | 0        | \n",
       "| Quantile | M        | 500      | 0.99     | 0        | 0        | 0        | 0        | 0        | 0        | ...      | 0        | 0        | 0        | 0        | 0        | 0        | 0        | 0        | 0        | 0        | \n",
       "| Quantile | M        | 750      | 0.95     | 0        | 0        | 0        | 0        | 0        | 0        | ...      | 0        | 0        | 0        | 0        | 0        | 0        | 0        | 0        | 0        | 0        | \n",
       "| Quantile | M        | 750      | 0.99     | 0        | 0        | 0        | 0        | 0        | 0        | ...      | 0        | 0        | 0        | 0        | 0        | 0        | 0        | 0        | 0        | 0        | \n",
       "| Noob     | Beta     | 200      | 0.95     | 0        | 0        | 0        | 0        | 0        | 0        | ...      | 0        | 0        | 0        | 0        | 0        | 0        | 0        | 0        | 0        | 0        | \n",
       "| Noob     | Beta     | 200      | 0.99     | 0        | 0        | 0        | 0        | 0        | 0        | ...      | 0        | 0        | 0        | 0        | 0        | 0        | 0        | 0        | 0        | 0        | \n",
       "| Noob     | Beta     | 250      | 0.95     | 0        | 0        | 0        | 0        | 0        | 0        | ...      | 0        | 0        | 0        | 0        | 0        | 0        | 0        | 0        | 0        | 0        | \n",
       "| Noob     | Beta     | 250      | 0.99     | 0        | 0        | 0        | 0        | 0        | 0        | ...      | 0        | 0        | 0        | 0        | 0        | 0        | 0        | 0        | 0        | 0        | \n",
       "| Noob     | Beta     | 500      | 0.95     | 0        | 0        | 0        | 0        | 0        | 0        | ...      | 0        | 0        | 0        | 0        | 0        | 0        | 0        | 0        | 0        | 0        | \n",
       "| Noob     | Beta     | 500      | 0.99     | 0        | 0        | 0        | 0        | 0        | 0        | ...      | 0        | 0        | 0        | 0        | 0        | 0        | 0        | 0        | 0        | 0        | \n",
       "| Noob     | Beta     | 750      | 0.95     | 0        | 0        | 0        | 0        | 0        | 0        | ...      | 0        | 0        | 0        | 0        | 0        | 0        | 0        | 0        | 0        | 0        | \n",
       "| Noob     | Beta     | 750      | 0.99     | 0        | 0        | 0        | 0        | 0        | 0        | ...      | 0        | 0        | 0        | 0        | 0        | 0        | 0        | 0        | 0        | 0        | \n",
       "| Noob     | M        | 200      | 0.95     | 0        | 0        | 0        | 0        | 0        | 0        | ...      | 0        | 0        | 0        | 0        | 0        | 0        | 0        | 0        | 0        | 0        | \n",
       "| Noob     | M        | 200      | 0.99     | 0        | 0        | 0        | 0        | 0        | 0        | ...      | 0        | 0        | 0        | 0        | 0        | 0        | 0        | 0        | 0        | 0        | \n",
       "| Noob     | M        | 250      | 0.95     | 0        | 0        | 0        | 0        | 0        | 0        | ...      | 0        | 0        | 0        | 0        | 0        | 0        | 0        | 0        | 0        | 0        | \n",
       "| Noob     | M        | 250      | 0.99     | 0        | 0        | 0        | 0        | 0        | 0        | ...      | 0        | 0        | 0        | 0        | 0        | 0        | 0        | 0        | 0        | 0        | \n",
       "| Noob     | M        | 500      | 0.95     | 0        | 0        | 0        | 0        | 0        | 0        | ...      | 0        | 0        | 0        | 0        | 0        | 0        | 0        | 0        | 0        | 0        | \n",
       "| Noob     | M        | 500      | 0.99     | 0        | 0        | 0        | 0        | 0        | 0        | ...      | 0        | 0        | 0        | 0        | 0        | 0        | 0        | 0        | 0        | 0        | \n",
       "| Noob     | M        | 750      | 0.95     | 0        | 0        | 0        | 0        | 0        | 0        | ...      | 0        | 0        | 0        | 0        | 0        | 0        | 0        | 0        | 0        | 0        | \n",
       "| Noob     | M        | 750      | 0.99     | 0        | 0        | 0        | 0        | 0        | 0        | ...      | 0        | 0        | 0        | 0        | 0        | 0        | 0        | 0        | 0        | 0        | \n",
       "\n",
       "\n"
      ],
      "text/plain": [
       "   Normalization Measure MaxGap CutoffQ NumberBumps CutoffValue chr1 chr2 chr3\n",
       "1  Quantile      Beta    200    0.95    0           0           0    0    0   \n",
       "2  Quantile      Beta    200    0.99    0           0           0    0    0   \n",
       "3  Quantile      Beta    250    0.95    0           0           0    0    0   \n",
       "4  Quantile      Beta    250    0.99    0           0           0    0    0   \n",
       "5  Quantile      Beta    500    0.95    0           0           0    0    0   \n",
       "6  Quantile      Beta    500    0.99    0           0           0    0    0   \n",
       "7  Quantile      Beta    750    0.95    0           0           0    0    0   \n",
       "8  Quantile      Beta    750    0.99    0           0           0    0    0   \n",
       "9  Quantile      M       200    0.95    0           0           0    0    0   \n",
       "10 Quantile      M       200    0.99    0           0           0    0    0   \n",
       "11 Quantile      M       250    0.95    0           0           0    0    0   \n",
       "12 Quantile      M       250    0.99    0           0           0    0    0   \n",
       "13 Quantile      M       500    0.95    0           0           0    0    0   \n",
       "14 Quantile      M       500    0.99    0           0           0    0    0   \n",
       "15 Quantile      M       750    0.95    0           0           0    0    0   \n",
       "16 Quantile      M       750    0.99    0           0           0    0    0   \n",
       "17 Noob          Beta    200    0.95    0           0           0    0    0   \n",
       "18 Noob          Beta    200    0.99    0           0           0    0    0   \n",
       "19 Noob          Beta    250    0.95    0           0           0    0    0   \n",
       "20 Noob          Beta    250    0.99    0           0           0    0    0   \n",
       "21 Noob          Beta    500    0.95    0           0           0    0    0   \n",
       "22 Noob          Beta    500    0.99    0           0           0    0    0   \n",
       "23 Noob          Beta    750    0.95    0           0           0    0    0   \n",
       "24 Noob          Beta    750    0.99    0           0           0    0    0   \n",
       "25 Noob          M       200    0.95    0           0           0    0    0   \n",
       "26 Noob          M       200    0.99    0           0           0    0    0   \n",
       "27 Noob          M       250    0.95    0           0           0    0    0   \n",
       "28 Noob          M       250    0.99    0           0           0    0    0   \n",
       "29 Noob          M       500    0.95    0           0           0    0    0   \n",
       "30 Noob          M       500    0.99    0           0           0    0    0   \n",
       "31 Noob          M       750    0.95    0           0           0    0    0   \n",
       "32 Noob          M       750    0.99    0           0           0    0    0   \n",
       "   chr4 ... chr15 chr16 chr17 chr18 chr19 chr20 chr21 chr22 chrX chrY\n",
       "1  0    ... 0     0     0     0     0     0     0     0     0    0   \n",
       "2  0    ... 0     0     0     0     0     0     0     0     0    0   \n",
       "3  0    ... 0     0     0     0     0     0     0     0     0    0   \n",
       "4  0    ... 0     0     0     0     0     0     0     0     0    0   \n",
       "5  0    ... 0     0     0     0     0     0     0     0     0    0   \n",
       "6  0    ... 0     0     0     0     0     0     0     0     0    0   \n",
       "7  0    ... 0     0     0     0     0     0     0     0     0    0   \n",
       "8  0    ... 0     0     0     0     0     0     0     0     0    0   \n",
       "9  0    ... 0     0     0     0     0     0     0     0     0    0   \n",
       "10 0    ... 0     0     0     0     0     0     0     0     0    0   \n",
       "11 0    ... 0     0     0     0     0     0     0     0     0    0   \n",
       "12 0    ... 0     0     0     0     0     0     0     0     0    0   \n",
       "13 0    ... 0     0     0     0     0     0     0     0     0    0   \n",
       "14 0    ... 0     0     0     0     0     0     0     0     0    0   \n",
       "15 0    ... 0     0     0     0     0     0     0     0     0    0   \n",
       "16 0    ... 0     0     0     0     0     0     0     0     0    0   \n",
       "17 0    ... 0     0     0     0     0     0     0     0     0    0   \n",
       "18 0    ... 0     0     0     0     0     0     0     0     0    0   \n",
       "19 0    ... 0     0     0     0     0     0     0     0     0    0   \n",
       "20 0    ... 0     0     0     0     0     0     0     0     0    0   \n",
       "21 0    ... 0     0     0     0     0     0     0     0     0    0   \n",
       "22 0    ... 0     0     0     0     0     0     0     0     0    0   \n",
       "23 0    ... 0     0     0     0     0     0     0     0     0    0   \n",
       "24 0    ... 0     0     0     0     0     0     0     0     0    0   \n",
       "25 0    ... 0     0     0     0     0     0     0     0     0    0   \n",
       "26 0    ... 0     0     0     0     0     0     0     0     0    0   \n",
       "27 0    ... 0     0     0     0     0     0     0     0     0    0   \n",
       "28 0    ... 0     0     0     0     0     0     0     0     0    0   \n",
       "29 0    ... 0     0     0     0     0     0     0     0     0    0   \n",
       "30 0    ... 0     0     0     0     0     0     0     0     0    0   \n",
       "31 0    ... 0     0     0     0     0     0     0     0     0    0   \n",
       "32 0    ... 0     0     0     0     0     0     0     0     0    0   "
      ]
     },
     "metadata": {},
     "output_type": "display_data"
    }
   ],
   "source": [
    "##Include columns for the number of bumps on each chromosome\n",
    "chr <- as.factor(seqnames(GRSet_quantile))\n",
    "chromosomes <- levels(chr)\n",
    "\n",
    "##Create a table to hold basic data about each bumphunter run including the cutoff value used and the number of DMRs found\n",
    "results_matrix <- matrix(0,32,30)\n",
    "dmr_results_table <- data.frame(results_matrix)\n",
    "colnames(dmr_results_table) <- c(\"Normalization\",\"Measure\",\"MaxGap\",\"CutoffQ\",\"NumberBumps\",\"CutoffValue\",chromosomes)\n",
    "\n",
    "##Fill in table with parameter design displayed above\n",
    "row <- 1\n",
    "for (n in 1:length(normalizations)){ \n",
    "    for (m in 1:length(measures)){\n",
    "        for (g in 1:length(gaps)){\n",
    "            for (q in 1:length(cutoffs)){\n",
    "                dmr_results_table$Normalization[row] <- normalizations[n]\n",
    "                dmr_results_table$Measure[row] <- measures[m]\n",
    "                dmr_results_table$MaxGap[row] <- gaps[g]\n",
    "                dmr_results_table$CutoffQ[row] <- cutoffs[q]\n",
    "                row <- row+1\n",
    "            }\n",
    "        }\n",
    "    }\n",
    "}\n",
    "\n",
    "dmr_results_table"
   ]
  },
  {
   "cell_type": "markdown",
   "metadata": {},
   "source": [
    "## Bumphunting quantile normalized data"
   ]
  },
  {
   "cell_type": "code",
   "execution_count": 23,
   "metadata": {
    "scrolled": true
   },
   "outputs": [
    {
     "name": "stderr",
     "output_type": "stream",
     "text": [
      "[bumphunterEngine] Using a single core (backend: doSEQ, version: 1.4.4).\n",
      "[bumphunterEngine] Computing coefficients.\n",
      "[bumphunterEngine] Performing 50 permutations.\n",
      "[bumphunterEngine] Computing marginal permutation p-values.\n",
      "[bumphunterEngine] cutoff: 0.003\n",
      "[bumphunterEngine] Finding regions.\n",
      "[bumphunterEngine] Found 40727 bumps.\n",
      "[bumphunterEngine] Computing regions for each permutation.\n",
      "[bumphunterEngine] Estimating p-values and FWER.\n",
      "[bumphunterEngine] Using a single core (backend: doSEQ, version: 1.4.4).\n",
      "[bumphunterEngine] Computing coefficients.\n",
      "[bumphunterEngine] Performing 50 permutations.\n",
      "[bumphunterEngine] Computing marginal permutation p-values.\n",
      "[bumphunterEngine] cutoff: 0.003\n",
      "[bumphunterEngine] Finding regions.\n",
      "[bumphunterEngine] Found 35091 bumps.\n",
      "[bumphunterEngine] Computing regions for each permutation.\n",
      "[bumphunterEngine] Estimating p-values and FWER.\n",
      "[bumphunterEngine] Using a single core (backend: doSEQ, version: 1.4.4).\n",
      "[bumphunterEngine] Computing coefficients.\n",
      "[bumphunterEngine] Performing 50 permutations.\n",
      "[bumphunterEngine] Computing marginal permutation p-values.\n",
      "[bumphunterEngine] cutoff: 0.004\n",
      "[bumphunterEngine] Finding regions.\n",
      "[bumphunterEngine] Found 27486 bumps.\n",
      "[bumphunterEngine] Computing regions for each permutation.\n",
      "[bumphunterEngine] Estimating p-values and FWER.\n",
      "[bumphunterEngine] Using a single core (backend: doSEQ, version: 1.4.4).\n",
      "[bumphunterEngine] Computing coefficients.\n",
      "[bumphunterEngine] Performing 50 permutations.\n",
      "[bumphunterEngine] Computing marginal permutation p-values.\n",
      "[bumphunterEngine] cutoff: 0.005\n",
      "[bumphunterEngine] Finding regions.\n",
      "[bumphunterEngine] Found 18494 bumps.\n",
      "[bumphunterEngine] Computing regions for each permutation.\n",
      "[bumphunterEngine] Estimating p-values and FWER.\n",
      "[bumphunterEngine] Using a single core (backend: doSEQ, version: 1.4.4).\n",
      "[bumphunterEngine] Computing coefficients.\n",
      "[bumphunterEngine] Performing 50 permutations.\n",
      "[bumphunterEngine] Computing marginal permutation p-values.\n",
      "[bumphunterEngine] cutoff: 0.004\n",
      "[bumphunterEngine] Finding regions.\n",
      "[bumphunterEngine] Found 23523 bumps.\n",
      "[bumphunterEngine] Computing regions for each permutation.\n",
      "[bumphunterEngine] Estimating p-values and FWER.\n",
      "[bumphunterEngine] Using a single core (backend: doSEQ, version: 1.4.4).\n",
      "[bumphunterEngine] Computing coefficients.\n",
      "[bumphunterEngine] Performing 50 permutations.\n",
      "[bumphunterEngine] Computing marginal permutation p-values.\n",
      "[bumphunterEngine] cutoff: 0.004\n",
      "[bumphunterEngine] Finding regions.\n",
      "[bumphunterEngine] Found 23521 bumps.\n",
      "[bumphunterEngine] Computing regions for each permutation.\n",
      "[bumphunterEngine] Estimating p-values and FWER.\n",
      "[bumphunterEngine] Using a single core (backend: doSEQ, version: 1.4.4).\n",
      "[bumphunterEngine] Computing coefficients.\n",
      "[bumphunterEngine] Performing 50 permutations.\n",
      "[bumphunterEngine] Computing marginal permutation p-values.\n",
      "[bumphunterEngine] cutoff: 0.004\n",
      "[bumphunterEngine] Finding regions.\n",
      "[bumphunterEngine] Found 28679 bumps.\n",
      "[bumphunterEngine] Computing regions for each permutation.\n",
      "[bumphunterEngine] Estimating p-values and FWER.\n",
      "[bumphunterEngine] Using a single core (backend: doSEQ, version: 1.4.4).\n",
      "[bumphunterEngine] Computing coefficients.\n",
      "[bumphunterEngine] Performing 50 permutations.\n",
      "[bumphunterEngine] Computing marginal permutation p-values.\n",
      "[bumphunterEngine] cutoff: 0.003\n",
      "[bumphunterEngine] Finding regions.\n",
      "[bumphunterEngine] Found 34569 bumps.\n",
      "[bumphunterEngine] Computing regions for each permutation.\n",
      "[bumphunterEngine] Estimating p-values and FWER.\n",
      "[bumphunterEngine] Using a single core (backend: doSEQ, version: 1.4.4).\n",
      "[bumphunterEngine] Computing coefficients.\n",
      "[bumphunterEngine] Performing 50 permutations.\n",
      "[bumphunterEngine] Computing marginal permutation p-values.\n",
      "[bumphunterEngine] cutoff: 0.028\n",
      "[bumphunterEngine] Finding regions.\n",
      "[bumphunterEngine] Found 27922 bumps.\n",
      "[bumphunterEngine] Computing regions for each permutation.\n",
      "[bumphunterEngine] Estimating p-values and FWER.\n",
      "[bumphunterEngine] Using a single core (backend: doSEQ, version: 1.4.4).\n",
      "[bumphunterEngine] Computing coefficients.\n",
      "[bumphunterEngine] Performing 50 permutations.\n",
      "[bumphunterEngine] Computing marginal permutation p-values.\n",
      "[bumphunterEngine] cutoff: 0.024\n",
      "[bumphunterEngine] Finding regions.\n",
      "[bumphunterEngine] Found 36336 bumps.\n",
      "[bumphunterEngine] Computing regions for each permutation.\n",
      "[bumphunterEngine] Estimating p-values and FWER.\n",
      "[bumphunterEngine] Using a single core (backend: doSEQ, version: 1.4.4).\n",
      "[bumphunterEngine] Computing coefficients.\n",
      "[bumphunterEngine] Performing 50 permutations.\n",
      "[bumphunterEngine] Computing marginal permutation p-values.\n",
      "[bumphunterEngine] cutoff: 0.021\n",
      "[bumphunterEngine] Finding regions.\n",
      "[bumphunterEngine] Found 44422 bumps.\n",
      "[bumphunterEngine] Computing regions for each permutation.\n",
      "[bumphunterEngine] Estimating p-values and FWER.\n",
      "[bumphunterEngine] Using a single core (backend: doSEQ, version: 1.4.4).\n",
      "[bumphunterEngine] Computing coefficients.\n",
      "[bumphunterEngine] Performing 50 permutations.\n",
      "[bumphunterEngine] Computing marginal permutation p-values.\n",
      "[bumphunterEngine] cutoff: 0.025\n",
      "[bumphunterEngine] Finding regions.\n",
      "[bumphunterEngine] Found 35320 bumps.\n",
      "[bumphunterEngine] Computing regions for each permutation.\n",
      "[bumphunterEngine] Estimating p-values and FWER.\n",
      "[bumphunterEngine] Using a single core (backend: doSEQ, version: 1.4.4).\n",
      "[bumphunterEngine] Computing coefficients.\n",
      "[bumphunterEngine] Performing 50 permutations.\n",
      "[bumphunterEngine] Computing marginal permutation p-values.\n",
      "[bumphunterEngine] cutoff: 0.022\n",
      "[bumphunterEngine] Finding regions.\n",
      "[bumphunterEngine] Found 41626 bumps.\n",
      "[bumphunterEngine] Computing regions for each permutation.\n",
      "[bumphunterEngine] Estimating p-values and FWER.\n",
      "[bumphunterEngine] Using a single core (backend: doSEQ, version: 1.4.4).\n",
      "[bumphunterEngine] Computing coefficients.\n",
      "[bumphunterEngine] Performing 50 permutations.\n",
      "[bumphunterEngine] Computing marginal permutation p-values.\n",
      "[bumphunterEngine] cutoff: 0.02\n",
      "[bumphunterEngine] Finding regions.\n",
      "[bumphunterEngine] Found 45785 bumps.\n",
      "[bumphunterEngine] Computing regions for each permutation.\n",
      "[bumphunterEngine] Estimating p-values and FWER.\n",
      "[bumphunterEngine] Using a single core (backend: doSEQ, version: 1.4.4).\n",
      "[bumphunterEngine] Computing coefficients.\n",
      "[bumphunterEngine] Performing 50 permutations.\n",
      "[bumphunterEngine] Computing marginal permutation p-values.\n",
      "[bumphunterEngine] cutoff: 0.023\n",
      "[bumphunterEngine] Finding regions.\n",
      "[bumphunterEngine] Found 37323 bumps.\n",
      "[bumphunterEngine] Computing regions for each permutation.\n",
      "[bumphunterEngine] Estimating p-values and FWER.\n",
      "[bumphunterEngine] Using a single core (backend: doSEQ, version: 1.4.4).\n",
      "[bumphunterEngine] Computing coefficients.\n",
      "[bumphunterEngine] Performing 50 permutations.\n",
      "[bumphunterEngine] Computing marginal permutation p-values.\n",
      "[bumphunterEngine] cutoff: 0.023\n",
      "[bumphunterEngine] Finding regions.\n",
      "[bumphunterEngine] Found 37439 bumps.\n",
      "[bumphunterEngine] Computing regions for each permutation.\n",
      "[bumphunterEngine] Estimating p-values and FWER.\n"
     ]
    }
   ],
   "source": [
    "##The number of bumps and cutoff values will be added starting at the first row of the results table\n",
    "row <- 1\n",
    "\n",
    "for (m in 1:length(measures)){\n",
    "    for (g in 1:length(gaps)){\n",
    "        for (q in 1:length(cutoffs)){\n",
    "            ##Run bumphunter function on the quantile normalized data using the age phenotypes for the design matrix\n",
    "                ##and run 50 permutations to calculate p-values for each region\n",
    "            dmrs_quantile <- bumphunter(GRSet_quantile, design = designMatrix, pickCutoff=TRUE, \n",
    "                                        cutoffQ=cutoffs[q], maxGap=gaps[g], B=50, type=measures[m])\n",
    "            dmr_results_table$NumberBumps[row] <- dim(dmrs_quantile$table)[1]\n",
    "            dmr_results_table$CutoffValue[row] <- dmrs_quantile$algorithm$cutoff\n",
    "            ##Count the number of DMRs found on each individual chromosome\n",
    "            for (i in 1:length(chromosomes)){\n",
    "                dmr_results_table[row,i+6] <- sum(dmrs_quantile$table$chr==chromosomes[i])\n",
    "            } \n",
    "            row <- row+1\n",
    "        }\n",
    "    }\n",
    "}"
   ]
  },
  {
   "cell_type": "markdown",
   "metadata": {},
   "source": [
    "## Bumphunting noob normalized data"
   ]
  },
  {
   "cell_type": "code",
   "execution_count": 12,
   "metadata": {},
   "outputs": [
    {
     "data": {
      "text/html": [
       "<table>\n",
       "<thead><tr><th scope=col>Normalization</th><th scope=col>Measure</th><th scope=col>MaxGap</th><th scope=col>CutoffQ</th><th scope=col>NumberBumps</th><th scope=col>CutoffValue</th><th scope=col>chr1</th><th scope=col>chr2</th><th scope=col>chr3</th><th scope=col>chr4</th><th scope=col>...</th><th scope=col>chr15</th><th scope=col>chr16</th><th scope=col>chr17</th><th scope=col>chr18</th><th scope=col>chr19</th><th scope=col>chr20</th><th scope=col>chr21</th><th scope=col>chr22</th><th scope=col>chrX</th><th scope=col>chrY</th></tr></thead>\n",
       "<tbody>\n",
       "\t<tr><td>Quantile   </td><td>Beta       </td><td>200        </td><td>0.95       </td><td>40727      </td><td>0.003032077</td><td>4403       </td><td>3016       </td><td>2276       </td><td>1626       </td><td>...        </td><td>1336       </td><td>1904       </td><td>2561       </td><td>402        </td><td>1891       </td><td>825        </td><td>358        </td><td>798        </td><td>810        </td><td>23         </td></tr>\n",
       "\t<tr><td>Quantile   </td><td>Beta       </td><td>200        </td><td>0.99       </td><td>35091      </td><td>0.003383419</td><td>3843       </td><td>2640       </td><td>1996       </td><td>1350       </td><td>...        </td><td>1147       </td><td>1649       </td><td>2215       </td><td>331        </td><td>1628       </td><td>702        </td><td>298        </td><td>688        </td><td>701        </td><td>18         </td></tr>\n",
       "\t<tr><td>Quantile   </td><td>Beta       </td><td>250        </td><td>0.95       </td><td>27486      </td><td>0.003923312</td><td>3023       </td><td>2070       </td><td>1597       </td><td>1037       </td><td>...        </td><td> 894       </td><td>1272       </td><td>1745       </td><td>248        </td><td>1290       </td><td>560        </td><td>210        </td><td>549        </td><td>553        </td><td>11         </td></tr>\n",
       "\t<tr><td>Quantile   </td><td>Beta       </td><td>250        </td><td>0.99       </td><td>18494      </td><td>0.004790538</td><td>2060       </td><td>1395       </td><td>1087       </td><td> 662       </td><td>...        </td><td> 621       </td><td> 845       </td><td>1189       </td><td>165        </td><td> 880       </td><td>365        </td><td>155        </td><td>366        </td><td>380        </td><td> 7         </td></tr>\n",
       "\t<tr><td>Quantile   </td><td>Beta       </td><td>500        </td><td>0.95       </td><td>23523      </td><td>0.004171259</td><td>2610       </td><td>1782       </td><td>1388       </td><td> 872       </td><td>...        </td><td> 761       </td><td>1066       </td><td>1488       </td><td>206        </td><td>1085       </td><td>465        </td><td>174        </td><td>461        </td><td>466        </td><td>10         </td></tr>\n",
       "\t<tr><td>Quantile   </td><td>Beta       </td><td>500        </td><td>0.99       </td><td>23521      </td><td>0.004171358</td><td>2610       </td><td>1782       </td><td>1388       </td><td> 872       </td><td>...        </td><td> 760       </td><td>1066       </td><td>1488       </td><td>206        </td><td>1085       </td><td>465        </td><td>174        </td><td>461        </td><td>465        </td><td>10         </td></tr>\n",
       "</tbody>\n",
       "</table>\n"
      ],
      "text/latex": [
       "\\begin{tabular}{r|llllllllllllllllllllllllllllll}\n",
       " Normalization & Measure & MaxGap & CutoffQ & NumberBumps & CutoffValue & chr1 & chr2 & chr3 & chr4 & ... & chr15 & chr16 & chr17 & chr18 & chr19 & chr20 & chr21 & chr22 & chrX & chrY\\\\\n",
       "\\hline\n",
       "\t Quantile    & Beta        & 200         & 0.95        & 40727       & 0.003032077 & 4403        & 3016        & 2276        & 1626        & ...         & 1336        & 1904        & 2561        & 402         & 1891        & 825         & 358         & 798         & 810         & 23         \\\\\n",
       "\t Quantile    & Beta        & 200         & 0.99        & 35091       & 0.003383419 & 3843        & 2640        & 1996        & 1350        & ...         & 1147        & 1649        & 2215        & 331         & 1628        & 702         & 298         & 688         & 701         & 18         \\\\\n",
       "\t Quantile    & Beta        & 250         & 0.95        & 27486       & 0.003923312 & 3023        & 2070        & 1597        & 1037        & ...         &  894        & 1272        & 1745        & 248         & 1290        & 560         & 210         & 549         & 553         & 11         \\\\\n",
       "\t Quantile    & Beta        & 250         & 0.99        & 18494       & 0.004790538 & 2060        & 1395        & 1087        &  662        & ...         &  621        &  845        & 1189        & 165         &  880        & 365         & 155         & 366         & 380         &  7         \\\\\n",
       "\t Quantile    & Beta        & 500         & 0.95        & 23523       & 0.004171259 & 2610        & 1782        & 1388        &  872        & ...         &  761        & 1066        & 1488        & 206         & 1085        & 465         & 174         & 461         & 466         & 10         \\\\\n",
       "\t Quantile    & Beta        & 500         & 0.99        & 23521       & 0.004171358 & 2610        & 1782        & 1388        &  872        & ...         &  760        & 1066        & 1488        & 206         & 1085        & 465         & 174         & 461         & 465         & 10         \\\\\n",
       "\\end{tabular}\n"
      ],
      "text/markdown": [
       "\n",
       "Normalization | Measure | MaxGap | CutoffQ | NumberBumps | CutoffValue | chr1 | chr2 | chr3 | chr4 | ... | chr15 | chr16 | chr17 | chr18 | chr19 | chr20 | chr21 | chr22 | chrX | chrY | \n",
       "|---|---|---|---|---|---|\n",
       "| Quantile    | Beta        | 200         | 0.95        | 40727       | 0.003032077 | 4403        | 3016        | 2276        | 1626        | ...         | 1336        | 1904        | 2561        | 402         | 1891        | 825         | 358         | 798         | 810         | 23          | \n",
       "| Quantile    | Beta        | 200         | 0.99        | 35091       | 0.003383419 | 3843        | 2640        | 1996        | 1350        | ...         | 1147        | 1649        | 2215        | 331         | 1628        | 702         | 298         | 688         | 701         | 18          | \n",
       "| Quantile    | Beta        | 250         | 0.95        | 27486       | 0.003923312 | 3023        | 2070        | 1597        | 1037        | ...         |  894        | 1272        | 1745        | 248         | 1290        | 560         | 210         | 549         | 553         | 11          | \n",
       "| Quantile    | Beta        | 250         | 0.99        | 18494       | 0.004790538 | 2060        | 1395        | 1087        |  662        | ...         |  621        |  845        | 1189        | 165         |  880        | 365         | 155         | 366         | 380         |  7          | \n",
       "| Quantile    | Beta        | 500         | 0.95        | 23523       | 0.004171259 | 2610        | 1782        | 1388        |  872        | ...         |  761        | 1066        | 1488        | 206         | 1085        | 465         | 174         | 461         | 466         | 10          | \n",
       "| Quantile    | Beta        | 500         | 0.99        | 23521       | 0.004171358 | 2610        | 1782        | 1388        |  872        | ...         |  760        | 1066        | 1488        | 206         | 1085        | 465         | 174         | 461         | 465         | 10          | \n",
       "\n",
       "\n"
      ],
      "text/plain": [
       "  Normalization Measure MaxGap CutoffQ NumberBumps CutoffValue chr1 chr2 chr3\n",
       "1 Quantile      Beta    200    0.95    40727       0.003032077 4403 3016 2276\n",
       "2 Quantile      Beta    200    0.99    35091       0.003383419 3843 2640 1996\n",
       "3 Quantile      Beta    250    0.95    27486       0.003923312 3023 2070 1597\n",
       "4 Quantile      Beta    250    0.99    18494       0.004790538 2060 1395 1087\n",
       "5 Quantile      Beta    500    0.95    23523       0.004171259 2610 1782 1388\n",
       "6 Quantile      Beta    500    0.99    23521       0.004171358 2610 1782 1388\n",
       "  chr4 ... chr15 chr16 chr17 chr18 chr19 chr20 chr21 chr22 chrX chrY\n",
       "1 1626 ... 1336  1904  2561  402   1891  825   358   798   810  23  \n",
       "2 1350 ... 1147  1649  2215  331   1628  702   298   688   701  18  \n",
       "3 1037 ...  894  1272  1745  248   1290  560   210   549   553  11  \n",
       "4  662 ...  621   845  1189  165    880  365   155   366   380   7  \n",
       "5  872 ...  761  1066  1488  206   1085  465   174   461   466  10  \n",
       "6  872 ...  760  1066  1488  206   1085  465   174   461   465  10  "
      ]
     },
     "metadata": {},
     "output_type": "display_data"
    }
   ],
   "source": [
    "##Read in data from quantile normalized bumphunting loop\n",
    "dmr_results_table <- read.csv(\"Bumphunter_results_across_parameters.csv\")\n",
    "head(dmr_results_table)"
   ]
  },
  {
   "cell_type": "code",
   "execution_count": 13,
   "metadata": {},
   "outputs": [
    {
     "name": "stderr",
     "output_type": "stream",
     "text": [
      "[bumphunterEngine] Using a single core (backend: doSEQ, version: 1.4.4).\n",
      "[bumphunterEngine] Computing coefficients.\n",
      "[bumphunterEngine] Performing 50 permutations.\n",
      "[bumphunterEngine] Computing marginal permutation p-values.\n",
      "[bumphunterEngine] cutoff: 0.004\n",
      "[bumphunterEngine] Finding regions.\n",
      "[bumphunterEngine] Found 38929 bumps.\n",
      "[bumphunterEngine] Computing regions for each permutation.\n",
      "Loading required package: rngtools\n",
      "Loading required package: pkgmaker\n",
      "Loading required package: registry\n",
      "\n",
      "Attaching package: 'pkgmaker'\n",
      "\n",
      "The following object is masked from 'package:S4Vectors':\n",
      "\n",
      "    new2\n",
      "\n",
      "The following object is masked from 'package:base':\n",
      "\n",
      "    isFALSE\n",
      "\n",
      "[bumphunterEngine] Estimating p-values and FWER.\n",
      "[bumphunterEngine] Using a single core (backend: doSEQ, version: 1.4.4).\n",
      "[bumphunterEngine] Computing coefficients.\n",
      "[bumphunterEngine] Performing 50 permutations.\n",
      "[bumphunterEngine] Computing marginal permutation p-values.\n",
      "[bumphunterEngine] cutoff: 0.005\n",
      "[bumphunterEngine] Finding regions.\n",
      "[bumphunterEngine] Found 28483 bumps.\n",
      "[bumphunterEngine] Computing regions for each permutation.\n",
      "[bumphunterEngine] Estimating p-values and FWER.\n",
      "[bumphunterEngine] Using a single core (backend: doSEQ, version: 1.4.4).\n",
      "[bumphunterEngine] Computing coefficients.\n",
      "[bumphunterEngine] Performing 50 permutations.\n",
      "[bumphunterEngine] Computing marginal permutation p-values.\n",
      "[bumphunterEngine] cutoff: 0.004\n",
      "[bumphunterEngine] Finding regions.\n",
      "[bumphunterEngine] Found 34355 bumps.\n",
      "[bumphunterEngine] Computing regions for each permutation.\n",
      "[bumphunterEngine] Estimating p-values and FWER.\n",
      "[bumphunterEngine] Using a single core (backend: doSEQ, version: 1.4.4).\n",
      "[bumphunterEngine] Computing coefficients.\n",
      "[bumphunterEngine] Performing 50 permutations.\n",
      "[bumphunterEngine] Computing marginal permutation p-values.\n",
      "[bumphunterEngine] cutoff: 0.004\n",
      "[bumphunterEngine] Finding regions.\n",
      "[bumphunterEngine] Found 34514 bumps.\n",
      "[bumphunterEngine] Computing regions for each permutation.\n",
      "[bumphunterEngine] Estimating p-values and FWER.\n",
      "[bumphunterEngine] Using a single core (backend: doSEQ, version: 1.4.4).\n",
      "[bumphunterEngine] Computing coefficients.\n",
      "[bumphunterEngine] Performing 50 permutations.\n",
      "[bumphunterEngine] Computing marginal permutation p-values.\n",
      "[bumphunterEngine] cutoff: 0.004\n",
      "[bumphunterEngine] Finding regions.\n",
      "[bumphunterEngine] Found 33020 bumps.\n",
      "[bumphunterEngine] Computing regions for each permutation.\n",
      "[bumphunterEngine] Estimating p-values and FWER.\n",
      "[bumphunterEngine] Using a single core (backend: doSEQ, version: 1.4.4).\n",
      "[bumphunterEngine] Computing coefficients.\n",
      "[bumphunterEngine] Performing 50 permutations.\n",
      "[bumphunterEngine] Computing marginal permutation p-values.\n",
      "[bumphunterEngine] cutoff: 0.004\n",
      "[bumphunterEngine] Finding regions.\n",
      "[bumphunterEngine] Found 37933 bumps.\n",
      "[bumphunterEngine] Computing regions for each permutation.\n",
      "[bumphunterEngine] Estimating p-values and FWER.\n",
      "[bumphunterEngine] Using a single core (backend: doSEQ, version: 1.4.4).\n",
      "[bumphunterEngine] Computing coefficients.\n",
      "[bumphunterEngine] Performing 50 permutations.\n",
      "[bumphunterEngine] Computing marginal permutation p-values.\n",
      "[bumphunterEngine] cutoff: 0.004\n",
      "[bumphunterEngine] Finding regions.\n",
      "[bumphunterEngine] Found 35064 bumps.\n",
      "[bumphunterEngine] Computing regions for each permutation.\n",
      "[bumphunterEngine] Estimating p-values and FWER.\n",
      "[bumphunterEngine] Using a single core (backend: doSEQ, version: 1.4.4).\n",
      "[bumphunterEngine] Computing coefficients.\n",
      "[bumphunterEngine] Performing 50 permutations.\n",
      "[bumphunterEngine] Computing marginal permutation p-values.\n",
      "[bumphunterEngine] cutoff: 0.004\n",
      "[bumphunterEngine] Finding regions.\n",
      "[bumphunterEngine] Found 38156 bumps.\n",
      "[bumphunterEngine] Computing regions for each permutation.\n",
      "[bumphunterEngine] Estimating p-values and FWER.\n",
      "[bumphunterEngine] Using a single core (backend: doSEQ, version: 1.4.4).\n",
      "[bumphunterEngine] Computing coefficients.\n",
      "[bumphunterEngine] Performing 50 permutations.\n",
      "[bumphunterEngine] Computing marginal permutation p-values.\n",
      "[bumphunterEngine] cutoff: 0.042\n",
      "[bumphunterEngine] Finding regions.\n",
      "[bumphunterEngine] Found 24757 bumps.\n",
      "[bumphunterEngine] Computing regions for each permutation.\n",
      "[bumphunterEngine] Estimating p-values and FWER.\n",
      "[bumphunterEngine] Using a single core (backend: doSEQ, version: 1.4.4).\n",
      "[bumphunterEngine] Computing coefficients.\n",
      "[bumphunterEngine] Performing 50 permutations.\n",
      "[bumphunterEngine] Computing marginal permutation p-values.\n",
      "[bumphunterEngine] cutoff: 0.042\n",
      "[bumphunterEngine] Finding regions.\n",
      "[bumphunterEngine] Found 24696 bumps.\n",
      "[bumphunterEngine] Computing regions for each permutation.\n",
      "[bumphunterEngine] Estimating p-values and FWER.\n",
      "[bumphunterEngine] Using a single core (backend: doSEQ, version: 1.4.4).\n",
      "[bumphunterEngine] Computing coefficients.\n",
      "[bumphunterEngine] Performing 50 permutations.\n",
      "[bumphunterEngine] Computing marginal permutation p-values.\n",
      "[bumphunterEngine] cutoff: 0.036\n",
      "[bumphunterEngine] Finding regions.\n",
      "[bumphunterEngine] Found 35569 bumps.\n",
      "[bumphunterEngine] Computing regions for each permutation.\n",
      "[bumphunterEngine] Estimating p-values and FWER.\n",
      "[bumphunterEngine] Using a single core (backend: doSEQ, version: 1.4.4).\n",
      "[bumphunterEngine] Computing coefficients.\n",
      "[bumphunterEngine] Performing 50 permutations.\n",
      "[bumphunterEngine] Computing marginal permutation p-values.\n",
      "[bumphunterEngine] cutoff: 0.042\n",
      "[bumphunterEngine] Finding regions.\n",
      "[bumphunterEngine] Found 24081 bumps.\n",
      "[bumphunterEngine] Computing regions for each permutation.\n",
      "[bumphunterEngine] Estimating p-values and FWER.\n",
      "[bumphunterEngine] Using a single core (backend: doSEQ, version: 1.4.4).\n",
      "[bumphunterEngine] Computing coefficients.\n",
      "[bumphunterEngine] Performing 50 permutations.\n",
      "[bumphunterEngine] Computing marginal permutation p-values.\n",
      "[bumphunterEngine] cutoff: 0.036\n",
      "[bumphunterEngine] Finding regions.\n",
      "[bumphunterEngine] Found 33717 bumps.\n",
      "[bumphunterEngine] Computing regions for each permutation.\n",
      "[bumphunterEngine] Estimating p-values and FWER.\n",
      "[bumphunterEngine] Using a single core (backend: doSEQ, version: 1.4.4).\n",
      "[bumphunterEngine] Computing coefficients.\n",
      "[bumphunterEngine] Performing 50 permutations.\n",
      "[bumphunterEngine] Computing marginal permutation p-values.\n",
      "[bumphunterEngine] cutoff: 0.036\n",
      "[bumphunterEngine] Finding regions.\n",
      "[bumphunterEngine] Found 33727 bumps.\n",
      "[bumphunterEngine] Computing regions for each permutation.\n",
      "[bumphunterEngine] Estimating p-values and FWER.\n",
      "[bumphunterEngine] Using a single core (backend: doSEQ, version: 1.4.4).\n",
      "[bumphunterEngine] Computing coefficients.\n",
      "[bumphunterEngine] Performing 50 permutations.\n",
      "[bumphunterEngine] Computing marginal permutation p-values.\n",
      "[bumphunterEngine] cutoff: 0.038\n",
      "[bumphunterEngine] Finding regions.\n",
      "[bumphunterEngine] Found 29005 bumps.\n",
      "[bumphunterEngine] Computing regions for each permutation.\n",
      "[bumphunterEngine] Estimating p-values and FWER.\n",
      "[bumphunterEngine] Using a single core (backend: doSEQ, version: 1.4.4).\n",
      "[bumphunterEngine] Computing coefficients.\n",
      "[bumphunterEngine] Performing 50 permutations.\n",
      "[bumphunterEngine] Computing marginal permutation p-values.\n",
      "[bumphunterEngine] cutoff: 0.032\n",
      "[bumphunterEngine] Finding regions.\n",
      "[bumphunterEngine] Found 44185 bumps.\n",
      "[bumphunterEngine] Computing regions for each permutation.\n",
      "[bumphunterEngine] Estimating p-values and FWER.\n"
     ]
    }
   ],
   "source": [
    "row <- 17\n",
    "\n",
    "for (m in 1:length(measures)){\n",
    "    for (g in 1:length(gaps)){\n",
    "        for (q in 1:length(cutoffs)){\n",
    "            ##Run bumphunter function on the quantile normalized data using the age phenotypes for the design matrix\n",
    "                ##and run 50 permutations to calculate p-values for each region\n",
    "            dmrs_noob <- bumphunter(GRSet_noob, design = designMatrix, pickCutoff=TRUE, \n",
    "                                        cutoffQ=cutoffs[q], maxGap=gaps[g], B=50, type=measures[m])\n",
    "            dmr_results_table$NumberBumps[row] <- dim(dmrs_noob$table)[1]\n",
    "            dmr_results_table$CutoffValue[row] <- dmrs_noob$algorithm$cutoff\n",
    "            ##Count the number of DMRs found on each individual chromosome\n",
    "            for (i in 1:length(chromosomes)){\n",
    "                dmr_results_table[row,i+6] <- sum(dmrs_noob$table$chr==chromosomes[i])\n",
    "            }  \n",
    "            row <- row+1\n",
    "        }\n",
    "    }\n",
    "}"
   ]
  },
  {
   "cell_type": "markdown",
   "metadata": {},
   "source": [
    "## Quick comparison of bumphunter output data across parameters"
   ]
  },
  {
   "cell_type": "code",
   "execution_count": 14,
   "metadata": {},
   "outputs": [],
   "source": [
    "##Save output data to file\n",
    "write.csv(dmr_results_table,\"Bumphunter_results_across_parameters.csv\",row.names=FALSE)"
   ]
  },
  {
   "cell_type": "code",
   "execution_count": null,
   "metadata": {},
   "outputs": [],
   "source": [
    "dmr_results_table"
   ]
  },
  {
   "cell_type": "markdown",
   "metadata": {},
   "source": [
    "To visualize the different results found by each bumphunter function design, let's make some simple plots of the number of bumps found and the different cutoff values chosen by bumphunter according to the regression statistics."
   ]
  },
  {
   "cell_type": "code",
   "execution_count": 29,
   "metadata": {},
   "outputs": [
    {
     "data": {
      "image/png": "[encoded data removed]",
      "text/plain": [
       "Plot with title \"Number of DMRs identified in samples by each test condition\""
      ]
     },
     "metadata": {},
     "output_type": "display_data"
    }
   ],
   "source": [
    "barplot(dmr_results_table$NumberBumps,ylab=\"Number of DMRs\",\n",
    "        main=\"Number of DMRs identified in samples by each test condition\",col=dmr_results_table$Normalization)\n",
    "legend(\"topleft\",legend=unique(dmr_results_table$Normalization),col=1:length(dmr_results_table$Normalization),pch=15)"
   ]
  },
  {
   "cell_type": "code",
   "execution_count": 30,
   "metadata": {},
   "outputs": [
    {
     "data": {
      "image/png": "[encoded data removed]",
      "text/plain": [
       "Plot with title \"Variation in statistical cutoff value chosen for identifying DMRs\""
      ]
     },
     "metadata": {},
     "output_type": "display_data"
    }
   ],
   "source": [
    "plot(1:length(dmr_results_table[,1]),dmr_results_table$CutoffValue,ylab=\"Cutoff Value\",xlab=\"\",\n",
    "    main=\"Variation in statistical cutoff value chosen for identifying DMRs\",pch=16,\n",
    "    col=dmr_results_table$Measure)\n",
    "legend(\"topleft\",legend=unique(dmr_results_table$Measure),col=1:length(dmr_results_table$Measure),pch=16)"
   ]
  },
  {
   "cell_type": "code",
   "execution_count": 34,
   "metadata": {},
   "outputs": [
    {
     "data": {
      "image/png": "[encoded data removed]",
      "text/plain": [
       "Plot with title \"Distribution of DMRs found per chromosome across testing conditions\""
      ]
     },
     "metadata": {},
     "output_type": "display_data"
    }
   ],
   "source": [
    "boxplot(dmr_results_table$chr1,dmr_results_table$chr2,dmr_results_table$chr3,dmr_results_table$chr4,dmr_results_table$chr5,\n",
    "       dmr_results_table$chr6,dmr_results_table$chr7,dmr_results_table$chr8,dmr_results_table$chr9,dmr_results_table$chr10,\n",
    "       dmr_results_table$chr11,dmr_results_table$chr12,dmr_results_table$chr13,dmr_results_table$chr14,\n",
    "       dmr_results_table$chr15,dmr_results_table$chr16,dmr_results_table$chr17,dmr_results_table$chr18,\n",
    "       dmr_results_table$chr19,dmr_results_table$chr20,dmr_results_table$chr21,dmr_results_table$chr22,\n",
    "       dmr_results_table$chrX,dmr_results_table$chrY,\n",
    "       main=\"Distribution of DMRs found per chromosome across testing conditions\",xlab=\"Chromosome\",\n",
    "       ylab=\"Number of DMRs identified\")"
   ]
  }
 ],
 "metadata": {
  "kernelspec": {
   "display_name": "R",
   "language": "R",
   "name": "ir"
  },
  "language_info": {
   "codemirror_mode": "r",
   "file_extension": ".r",
   "mimetype": "text/x-r-source",
   "name": "R",
   "pygments_lexer": "r",
   "version": "3.5.1"
  }
 },
 "nbformat": 4,
 "nbformat_minor": 2
}
