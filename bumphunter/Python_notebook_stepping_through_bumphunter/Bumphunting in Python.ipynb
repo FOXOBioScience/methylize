{
 "cells": [
  {
   "cell_type": "markdown",
   "metadata": {},
   "source": [
    "# Python-equivalent commands for bumphunting"
   ]
  },
  {
   "cell_type": "code",
   "execution_count": 1,
   "metadata": {},
   "outputs": [],
   "source": [
    "#import csv ##module required so far just to read CSV data files output by minfi processing in R\n",
    "import pandas as pd\n",
    "import numpy as np\n",
    "import statsmodels.api as sm"
   ]
  },
  {
   "cell_type": "code",
   "execution_count": 3,
   "metadata": {},
   "outputs": [],
   "source": [
    "##Read in the minfi processed output matrices needed to run bumphunter code\n",
    "betaVals = pd.read_csv(\"Sample_Beta_value_matrix_quantilePreprocessed.csv\",index_col=0)\n",
    "phenoDesign = pd.read_csv(\"Sample_phenotype_design_matrix.csv\")\n",
    "probePositions = pd.read_csv(\"Sample_probe_genomic_positions.csv\",index_col=0)"
   ]
  },
  {
   "cell_type": "code",
   "execution_count": 4,
   "metadata": {
    "scrolled": true
   },
   "outputs": [
    {
     "data": {
      "text/html": [
       "<div>\n",
       "<style scoped>\n",
       "    .dataframe tbody tr th:only-of-type {\n",
       "        vertical-align: middle;\n",
       "    }\n",
       "\n",
       "    .dataframe tbody tr th {\n",
       "        vertical-align: top;\n",
       "    }\n",
       "\n",
       "    .dataframe thead th {\n",
       "        text-align: right;\n",
       "    }\n",
       "</style>\n",
       "<table border=\"1\" class=\"dataframe\">\n",
       "  <thead>\n",
       "    <tr style=\"text-align: right;\">\n",
       "      <th></th>\n",
       "      <th>Chromosome</th>\n",
       "      <th>Position</th>\n",
       "    </tr>\n",
       "  </thead>\n",
       "  <tbody>\n",
       "    <tr>\n",
       "      <th>cg13869341</th>\n",
       "      <td>chr1</td>\n",
       "      <td>15865</td>\n",
       "    </tr>\n",
       "    <tr>\n",
       "      <th>cg14008030</th>\n",
       "      <td>chr1</td>\n",
       "      <td>18827</td>\n",
       "    </tr>\n",
       "    <tr>\n",
       "      <th>cg12045430</th>\n",
       "      <td>chr1</td>\n",
       "      <td>29407</td>\n",
       "    </tr>\n",
       "    <tr>\n",
       "      <th>cg20826792</th>\n",
       "      <td>chr1</td>\n",
       "      <td>29425</td>\n",
       "    </tr>\n",
       "    <tr>\n",
       "      <th>cg00381604</th>\n",
       "      <td>chr1</td>\n",
       "      <td>29435</td>\n",
       "    </tr>\n",
       "  </tbody>\n",
       "</table>\n",
       "</div>"
      ],
      "text/plain": [
       "           Chromosome  Position\n",
       "cg13869341       chr1     15865\n",
       "cg14008030       chr1     18827\n",
       "cg12045430       chr1     29407\n",
       "cg20826792       chr1     29425\n",
       "cg00381604       chr1     29435"
      ]
     },
     "execution_count": 4,
     "metadata": {},
     "output_type": "execute_result"
    }
   ],
   "source": [
    "probePositions.head()"
   ]
  },
  {
   "cell_type": "code",
   "execution_count": 5,
   "metadata": {},
   "outputs": [
    {
     "data": {
      "text/html": [
       "<div>\n",
       "<style scoped>\n",
       "    .dataframe tbody tr th:only-of-type {\n",
       "        vertical-align: middle;\n",
       "    }\n",
       "\n",
       "    .dataframe tbody tr th {\n",
       "        vertical-align: top;\n",
       "    }\n",
       "\n",
       "    .dataframe thead th {\n",
       "        text-align: right;\n",
       "    }\n",
       "</style>\n",
       "<table border=\"1\" class=\"dataframe\">\n",
       "  <thead>\n",
       "    <tr style=\"text-align: right;\">\n",
       "      <th></th>\n",
       "      <th>GSM1711360_9247377093_R02C01</th>\n",
       "      <th>GSM1711361_9247377093_R03C01</th>\n",
       "      <th>GSM1711362_9247377093_R06C02</th>\n",
       "      <th>GSM1711363_9247377085_R04C02</th>\n",
       "      <th>GSM1711364_9247377093_R05C01</th>\n",
       "      <th>GSM1711365_9247377093_R02C02</th>\n",
       "    </tr>\n",
       "  </thead>\n",
       "  <tbody>\n",
       "    <tr>\n",
       "      <th>cg13869341</th>\n",
       "      <td>0.853966</td>\n",
       "      <td>0.859463</td>\n",
       "      <td>0.841423</td>\n",
       "      <td>0.864711</td>\n",
       "      <td>0.866001</td>\n",
       "      <td>0.889798</td>\n",
       "    </tr>\n",
       "    <tr>\n",
       "      <th>cg14008030</th>\n",
       "      <td>0.804748</td>\n",
       "      <td>0.808577</td>\n",
       "      <td>0.782708</td>\n",
       "      <td>0.796127</td>\n",
       "      <td>0.801304</td>\n",
       "      <td>0.858243</td>\n",
       "    </tr>\n",
       "    <tr>\n",
       "      <th>cg12045430</th>\n",
       "      <td>0.176411</td>\n",
       "      <td>0.160218</td>\n",
       "      <td>0.145978</td>\n",
       "      <td>0.165587</td>\n",
       "      <td>0.200644</td>\n",
       "      <td>0.195475</td>\n",
       "    </tr>\n",
       "    <tr>\n",
       "      <th>cg20826792</th>\n",
       "      <td>0.476619</td>\n",
       "      <td>0.443585</td>\n",
       "      <td>0.342943</td>\n",
       "      <td>0.521183</td>\n",
       "      <td>0.564243</td>\n",
       "      <td>0.540803</td>\n",
       "    </tr>\n",
       "    <tr>\n",
       "      <th>cg00381604</th>\n",
       "      <td>0.232571</td>\n",
       "      <td>0.207345</td>\n",
       "      <td>0.167195</td>\n",
       "      <td>0.170035</td>\n",
       "      <td>0.191317</td>\n",
       "      <td>0.162296</td>\n",
       "    </tr>\n",
       "  </tbody>\n",
       "</table>\n",
       "</div>"
      ],
      "text/plain": [
       "            GSM1711360_9247377093_R02C01  GSM1711361_9247377093_R03C01  \\\n",
       "cg13869341                      0.853966                      0.859463   \n",
       "cg14008030                      0.804748                      0.808577   \n",
       "cg12045430                      0.176411                      0.160218   \n",
       "cg20826792                      0.476619                      0.443585   \n",
       "cg00381604                      0.232571                      0.207345   \n",
       "\n",
       "            GSM1711362_9247377093_R06C02  GSM1711363_9247377085_R04C02  \\\n",
       "cg13869341                      0.841423                      0.864711   \n",
       "cg14008030                      0.782708                      0.796127   \n",
       "cg12045430                      0.145978                      0.165587   \n",
       "cg20826792                      0.342943                      0.521183   \n",
       "cg00381604                      0.167195                      0.170035   \n",
       "\n",
       "            GSM1711364_9247377093_R05C01  GSM1711365_9247377093_R02C02  \n",
       "cg13869341                      0.866001                      0.889798  \n",
       "cg14008030                      0.801304                      0.858243  \n",
       "cg12045430                      0.200644                      0.195475  \n",
       "cg20826792                      0.564243                      0.540803  \n",
       "cg00381604                      0.191317                      0.162296  "
      ]
     },
     "execution_count": 5,
     "metadata": {},
     "output_type": "execute_result"
    }
   ],
   "source": [
    "betaVals.head()"
   ]
  },
  {
   "cell_type": "code",
   "execution_count": 6,
   "metadata": {},
   "outputs": [
    {
     "data": {
      "text/plain": [
       "(485512, 6)"
      ]
     },
     "execution_count": 6,
     "metadata": {},
     "output_type": "execute_result"
    }
   ],
   "source": [
    "betaVals.shape"
   ]
  },
  {
   "cell_type": "markdown",
   "metadata": {},
   "source": [
    "The first set of commands within the <span style=\"font-family:Courier\">bumphunterEngine</span> check which arguments were specified when the <span style=\"font-family:Courier\">bumphunter</span> function was called, check if they're in the correct format, and produce informative warnings if any input is incorrect.\n",
    "\n",
    "Then the <span style=\"font-family:Courier\">bumphunterEngine</span> calls several functions from R's <span style=\"font-family:Courier\">foreach</span> package to see if multiple cores were registered before <span style=\"font-family:Courier\">bumphunter</span> was called. This sets up the makes it possible for the more time-consuming <span style=\"font-family:Courier\">bumphunterEngine</span> functions to process in parallel as coded.\n",
    "\n",
    "<span style=\"color:red\"><b>Parallel processing has NOT been addressed yet in this python implementation</b></span>\n",
    "\n",
    "The first backend function <span style=\"font-family:Courier\">bumphunterEngine</span> calls is <span style=\"font-family:Courier\">clusterMaker</span>, which assigns genomic locations to sets of clusters if they are within <span style=\"font-family:Courier\">maxGap</span> of one another (if clusters were not already pre-assigned in one of the function arguments)."
   ]
  },
  {
   "cell_type": "code",
   "execution_count": 17,
   "metadata": {},
   "outputs": [],
   "source": [
    "##if (is.null(cluster))\n",
    "    ##cluster <- clusterMaker(chr, pos, maxGap = maxGap)"
   ]
  },
  {
   "cell_type": "markdown",
   "metadata": {},
   "source": [
    "## clusterMaker() commands"
   ]
  },
  {
   "cell_type": "code",
   "execution_count": 29,
   "metadata": {},
   "outputs": [],
   "source": [
    "##clusterMaker function args (lists a different default maxGap than bumphunter())\n",
    "    ##clusterMaker <- function(chr, pos, assumeSorted = FALSE, maxGap=300)\n",
    "    \n",
    "#nonaIndex <- which(!is.na(chr) & !is.na(pos))   ##integer vector of probe indices from 1-485512\n",
    "#Indexes <- split(nonaIndex, chr[nonaIndex])  ##24 integer vectors (one for each chromosome)\n",
    "#clusterIDs <- rep(NA, length(chr))\n",
    "#LAST <- 0\n",
    "\n",
    "##Set maximum distance in bp allowed between probes in the same cluster\n",
    "maxGap = 300\n",
    "assumeSorted = False   ##don't assume the genomic positions are listed in order of chromosomal location\n",
    "\n",
    "##Drop NA values from the dataframe of chromosome IDs and genomic locations for each probe\n",
    "if probePositions.isnull().values.any():\n",
    "    probePositions.dropna()\n",
    "\n",
    "##set \"last\" counter to zero (keeps count of how many clusters were assigned on previous chromosomes in following loop)\n",
    "last = 0\n",
    "\n",
    "##Create list of all chromosome IDs present in dataset\n",
    "probeChr = set(probePositions[\"Chromosome\"])\n",
    "probeChr = list(probeChr)\n",
    "probeChr[:5]\n",
    "\n",
    "##list to hold cluster ID number for each genomic position\n",
    "clusterIDs = []"
   ]
  },
  {
   "cell_type": "markdown",
   "metadata": {},
   "source": [
    "R code (commented out above Python commands) splits the probe positions by chromosome into a list of vectors, but is that really necessary? I'm going to keep the pandas dataframe together and select by chromosome when it comes to it. Might change this if that's unwieldy or slow."
   ]
  },
  {
   "cell_type": "code",
   "execution_count": 30,
   "metadata": {},
   "outputs": [],
   "source": [
    "#assumeSorted = FALSE\n",
    "#for(i in seq(along = Indexes)){  ##loops 24 times, once for each chromosome\n",
    "    #Index <- Indexes[[i]]\n",
    "    #x <- pos[Index]   ##select probe positions for that chromosome\n",
    "    #if(!assumeSorted){   ##make sure probe genomic locations are in order\n",
    "        #Index <- Index[order(x)]\n",
    "        #x <- pos[Index]\n",
    "    #}\n",
    "    ##diff(x) to calculate distance between each sequential position\n",
    "    #y <- as.numeric(diff(x) > maxGap)  ##binary vector where 0 = distance < maxGap and 1 = distance < maxGap\n",
    "    #z <- cumsum(c(1, y))  ##cumulative sum of this binary vector\n",
    "    #clusterIDs[Index] <- z + LAST  ##turn this cumulative sum vector into the cluster ID numbers\n",
    "    #LAST <- max(z) + LAST  ##record the last clusterID to start at the next number for the following chromosome\n",
    "#}\n",
    "#head(clusterIDs)\n",
    "\n",
    "\n",
    "##Loop 24 times (once for each chromosome since clusters can't span across chromosomes)\n",
    "for i in probeChr:\n",
    "    ##Select just the rows of the dataframe corresponding to that chromosome\n",
    "    chr_rows = probePositions[probePositions.Chromosome==i]\n",
    "    ##Create a series of the numeric genomic locations for each probe on that chromosome\n",
    "    x = chr_rows.Position\n",
    "    ##Make sure they're sorted in ascending order\n",
    "    if not assumeSorted:\n",
    "        x = x.sort_values()\n",
    "    ##Calculate the difference between each successive position\n",
    "    diff_x = np.diff(x)\n",
    "    ##Create a list of 0s (difference is <maxGap) and 1s (difference is >maxGap)\n",
    "    y = (diff_x > maxGap)*1\n",
    "    ##diff is always one item shorter than the series from which it was calculated, so add one 1 to the start of y \n",
    "    #y.insert(0,1)\n",
    "    y_all = np.insert(y,0,1)\n",
    "    ##Take the cumulative sum of these zeroes and ones to assign cluster ID numbers\n",
    "        ##that start a new cluster each time the probes are >maxGap apart\n",
    "    z = np.cumsum(y_all)\n",
    "    ##Add the final cluster number from the previous chromosome to z so that this chromosome starts at the next ID #\n",
    "    #z_plus = [1+i for i in z]\n",
    "    z_plus = z+last\n",
    "    ##Concatenate this chromosome's list of cluster IDs with the running list of cluster ID numbers\n",
    "    clusterIDs = np.append(clusterIDs,z_plus)\n",
    "    ##Adjust the \"last\" counter to the final cluster ID number for this chromosome\n",
    "    last = max(z_plus)\n",
    "    "
   ]
  },
  {
   "cell_type": "code",
   "execution_count": 8,
   "metadata": {},
   "outputs": [
    {
     "data": {
      "text/plain": [
       "array([242697., 242697., 242697., 242698., 242699., 242700., 242700.,\n",
       "       242701., 242702., 242703.])"
      ]
     },
     "execution_count": 8,
     "metadata": {},
     "output_type": "execute_result"
    }
   ],
   "source": [
    "len(clusterIDs)\n",
    "clusterIDs[-10:]"
   ]
  },
  {
   "cell_type": "markdown",
   "metadata": {},
   "source": [
    "After designating cluster ID numbers, <span style=\"font-family:Courier\">bumphunterEngine</span> makes decisions about smoothing and weighting the data depending on the inputs the user provided for the function. Whether the data is eventually weighted or not, it is first processed through the <span style=\"font-family:Courier\">.getEstimate</span> method."
   ]
  },
  {
   "cell_type": "code",
   "execution_count": null,
   "metadata": {},
   "outputs": [],
   "source": [
    "##if (useWeights & smooth) { \n",
    "    ##tmp <- .getEstimate(mat = mat, design = design,\n",
    "                        ##coef = coef, full = TRUE)\n",
    "    ##rawBeta <- tmp$coef\n",
    "    ##weights <- 1/tmp$sigma\n",
    "    ##rm(tmp)\n",
    "##} else {\n",
    "    ##rawBeta <- .getEstimate(mat = mat, design = design, coef = coef,\n",
    "            ##full = FALSE)\n",
    "    ##weights <- NULL\n",
    "##}"
   ]
  },
  {
   "cell_type": "markdown",
   "metadata": {},
   "source": [
    "## .getEstimate() commands\n",
    "\n",
    "<span style=\"color:red\"><b>Currently doesn't handle a user input matrix for the <span style=\"font-family:Courier\">permutations</span> argument (assumes argument has been left blank and defaults to None).</b></span>\n",
    "\n",
    "Found issues when trying to find corresponding <span style=\"font-family:Courier\">numpy</span> functions for the <span style=\"font-family:Courier\">R</span> matrix operations used in solving the linear regression. The following is a cheatsheet I came up with after experimenting with simple test matrices to see what commands produced the same output in both languages:\n",
    "\n",
    "<b>R</b> | <b>Python</b>\n",
    " --- | --- \n",
    "A %*% B | np.dot(A,B)\n",
    "t(A) | A.T\n",
    "crossprod(A,B) | np.dot(A.T,B)\n",
    "tcrossprod(A,B) | np.dot(A,B.T)"
   ]
  },
  {
   "cell_type": "code",
   "execution_count": 9,
   "metadata": {},
   "outputs": [],
   "source": [
    "##.getEstimate <- function(mat, design, coef, B=NULL, permutations=NULL,\n",
    "                         ##full=FALSE) {\n",
    "    ##v <- design[,coef]\n",
    "    ##A <- design[,-coef, drop=FALSE]\n",
    "    ##qa <- qr(A)\n",
    "    ##S <- diag(nrow(A)) - tcrossprod(qr.Q(qa))\n",
    "\n",
    "    ##vv <- if (is.null(B)) matrix(v, ncol=1) else{\n",
    "        ##if(is.null(permutations)){\n",
    "            ##replicate(B, sample(v))\n",
    "        ##} else{\n",
    "            ##apply(permutations,2,function(i) v[i])\n",
    "        ##}\n",
    "    ##}\n",
    "            \n",
    "            \n",
    "    ##sv <- S %*% vv\n",
    "    ##vsv <- diag(crossprod(vv,sv))\n",
    "    \n",
    "    ##b <- (mat %*% crossprod(S, vv)) / vsv\n",
    "    ##if(!is.matrix(b))\n",
    "        ##b <- matrix(b, ncol = 1)\n",
    "    ##if (full) {\n",
    "        ##sy <- mat %*% S\n",
    "        ##df.residual <- ncol(mat) - qa$rank - 1\n",
    "        ##if (is.null(B)) {\n",
    "            ##sigma <- matrix(sqrt(rowSums((sy - tcrossprod(b, sv))^2) / df.residual), ncol=1)\n",
    "        ##} else {\n",
    "            ##sigma <- b\n",
    "            ##tmp <- sy\n",
    "            ##for (j in 1:B) {\n",
    "                ##tmp <- tcrossprod(b[,j], sv[,j])\n",
    "                ##sigma[,j] <- rowSums((sy-tmp)^2)\n",
    "            ##}\n",
    "            ##sigma <- sqrt(sigma/df.residual)\n",
    "        ##}\n",
    "        ##out <- list(coef=b,\n",
    "                    ##sigma=sigma,\n",
    "                    ##stdev.unscaled=sqrt(1/vsv),\n",
    "                    ##df.residual=df.residual)\n",
    "        ##if (is.null(B)) out$stdev <- as.numeric(out$stdev)\n",
    "    ##} else {\n",
    "        ##out <- b\n",
    "    ##}\n",
    "    ##return(out)\n",
    "##}\n",
    "\n",
    "\n",
    "##Default values\n",
    "##coef = 2 --> no need for this in Python implementation\n",
    "B=None     ##Works with B > 0 when tested\n",
    "permutations=None\n",
    "full=False    ##Works with full = True when tested\n",
    "\n",
    "##Select the columns of the data frame that are actual phenotype descriptors\n",
    "v = phenoDesign.loc[:,phenoDesign.columns!=\"(Intercept)\"]\n",
    "##Select the first, non-phenotype column of the design data frame\n",
    "Adf  = phenoDesign[\"(Intercept)\"]\n",
    "##Save this one dataframe column as a numpy array\n",
    "A = np.array(Adf)\n",
    "##Make sure the array is 2 dimensional\n",
    "A = A.reshape(-1,1)\n",
    "##Calculate the QR decomposition of the matrix\n",
    "    ####May want to replace with scipy.linalg.qr to get rank more legitimately later\n",
    "qa = np.linalg.qr(A)\n",
    "##Create a diagonal matrix with the same dimensions as the number of samples\n",
    "diagonal = np.zeros((A.shape[0], A.shape[0]), int)\n",
    "np.fill_diagonal(diagonal, 1)\n",
    "##Subtract the cross product of qa times the transposition of itself from the diagonal matrix\n",
    "qa_mat = np.matrix(qa[0])\n",
    "S = diagonal - np.dot(qa_mat,qa_mat.T)\n",
    "\n",
    "##If the user didn't specify a number of permutations in the function input\n",
    "if B is None:\n",
    "    ##use the array version of v (the phenotype column(s)) for vv\n",
    "    vv = np.array(v)\n",
    "else:\n",
    "    ##If the user didn't provide a matrix for the permutations argument\n",
    "    if permutations is None:\n",
    "        ##convert pandas series v into an array and flatten it to one dimensional\n",
    "        v_arr = np.array(v)\n",
    "        v_arr = v_arr.reshape(v_arr.shape[0])\n",
    "        ##Randomly permute the phenotypes among the samples B times\n",
    "        vv = np.random.choice(v_arr,v_arr.shape[0],replace=False)\n",
    "        for i in range(B-1):\n",
    "            next_sample = np.random.choice(v_arr,v_arr.shape[0],replace=False)\n",
    "            vv = np.vstack((vv,next_sample))\n",
    "        vv = vv.T   ##Phenotype permutation matrix\n",
    "\n",
    "\n",
    "vv_mat = np.matrix(vv)\n",
    "S_mat = np.matrix(S)\n",
    "sv = np.dot(S_mat,vv_mat)\n",
    "vsv = np.diag(np.dot(vv_mat.T,sv))\n",
    "##Bring the matrix of methylation values for each probe into the math\n",
    "beta_mat = np.matrix(betaVals)\n",
    "b = np.dot(beta_mat,np.dot(S_mat.T, vv_mat)) / vsv\n",
    "\n",
    "##If b doesn't turn out to be a matrix, shape the values into a one-column matrix\n",
    "if type(b) is not np.matrix:\n",
    "    b = np.matrix(b)\n",
    "    b = b.reshape(b.shape[0]*b.shape[1],1)\n",
    "if full:\n",
    "    sy = np.dot(beta_mat,S_mat)\n",
    "    ##Calculate degrees of freedom?\n",
    "    df_residual = beta_mat.shape[1] - qa_mat.shape[1] -1\n",
    "    ##If no number of permutations was specified by the user\n",
    "    if B is None:\n",
    "        sigma = np.matrix(np.sqrt(np.sum(np.square(sy-np.dot(b,sv.T)),axis=1)/df_residual))\n",
    "        sigma = sigma.reshape(sigma.shape[0]*sigma.shape[1],1)\n",
    "    else:\n",
    "        sigma = b\n",
    "        tmp = sy\n",
    "        for j in range(B):\n",
    "            tmp = np.dot(b[:,j],sv[:,j].T)\n",
    "            sigma[:,j] = np.sum(np.square(sy-tmp),axis=1)\n",
    "        sigma = np.sqrt(sigma/df_residual)\n",
    "    coef = b\n",
    "    stdev_unscaled = np.sqrt(1/vsv)\n",
    "        \n",
    "##Below are the data structures returned by .getEstimate()\n",
    "\n",
    "        ##out <- list(coef=b,\n",
    "                    ##sigma=sigma,\n",
    "                    ##stdev.unscaled=sqrt(1/vsv),\n",
    "                    ##df.residual=df.residual)\n",
    "        ##if (is.null(B)) out$stdev <- as.numeric(out$stdev)\n",
    "    ##} else {\n",
    "        ##out <- b\n",
    "    ##}\n",
    "    ##return(out)\n",
    "##}\n",
    "\n",
    "        "
   ]
  },
  {
   "cell_type": "markdown",
   "metadata": {},
   "source": [
    "## Proceeding without weights but with smoothing\n",
    "\n",
    "The output of the previous <span style=\"font-family:Courier\">.getEstimate</span> commands are used as the input <span style=\"font-family:Courier\">rawBeta</span> for the smoothing function."
   ]
  },
  {
   "cell_type": "code",
   "execution_count": null,
   "metadata": {},
   "outputs": [],
   "source": [
    "    ##if (smooth) {\n",
    "        ##if (verbose)\n",
    "            ##message(\"[bumphunterEngine] Smoothing coefficients.\")\n",
    "        ##beta <- smoother(y = rawBeta, x = pos, cluster = cluster,\n",
    "            ##weights = weights, smoothFunction = smoothFunction,\n",
    "            ##verbose = subverbose, ...)\n",
    "        ##Index <- which(beta$smoothed)\n",
    "        ##beta <- beta$fitted\n",
    "    ##} else {\n",
    "        ##beta <- rawBeta\n",
    "        ##Index <- seq(along = beta)\n",
    "    ##}"
   ]
  },
  {
   "cell_type": "code",
   "execution_count": null,
   "metadata": {},
   "outputs": [],
   "source": [
    "##smoother <- function(y, x=NULL, cluster, weights=NULL,\n",
    "                     ##smoothFunction, verbose=TRUE, ...) {\n",
    "\n",
    "## y = rawBeta --> b output from previous commands\n",
    "## x = pos --> probePositions.Position\n",
    "## cluster --> clusterIDs"
   ]
  },
  {
   "cell_type": "markdown",
   "metadata": {},
   "source": [
    "## smoother() function commands\n",
    "\n",
    "<span style=\"color:red\"><b>This function <i>can</i> use parallel processing, but it has NOT been implemented yet in this python translation</b></span>"
   ]
  },
  {
   "cell_type": "code",
   "execution_count": 10,
   "metadata": {},
   "outputs": [],
   "source": [
    "##smoother <- function(y, x=NULL, cluster, weights=NULL,\n",
    "                     ##smoothFunction, verbose=TRUE, ...) {\n",
    "    \n",
    "weights = None\n",
    "verbose = True\n",
    "    ##if(is.null(dim(y)))\n",
    "        ##y <- matrix(y, ncol=1) ##need to change this to be more robust\n",
    "if type(b) is np.matrix:   ##If b is not a matrix\n",
    "    y = b\n",
    "else:    ##reshape its values into a 1 column matrix\n",
    "    y = np.matrix(b)\n",
    "    y = y.reshape(y.shape[0]*y.shape[1],1)\n",
    "    ##if(!is.null(weights) && is.null(dim(weights)))\n",
    "        ##weights <- matrix(weights, ncol=1)\n",
    "if (weights is not None) and (type(weights) is not np.matrix):\n",
    "    weights = np.matrix(weights)\n",
    "    weights = weights.reshape(weights.shape[0]*weights.shape[1],1)\n",
    "        \n",
    "    ##if (!getDoParRegistered())\n",
    "        ##registerDoSEQ()\n",
    "    ##cores <- getDoParWorkers()\n",
    "cores = 1 \n",
    "    \n",
    "    ##Indexes <- split(seq(along=cluster), cluster)\n",
    "    ##baseSize <- length(Indexes) %/% cores\n",
    "    ##remain <- length(Indexes) %% cores\n",
    "    ##done <- 0L\n",
    "    ##IndexesChunks <- vector(\"list\", length = cores)\n",
    "Indexes = []\n",
    "ID_num = clusterIDs[0]\n",
    "thisInd = [1]\n",
    "for i in range(1,len(clusterIDs)):\n",
    "    if clusterIDs[i] == ID_num:\n",
    "        thisInd.append(i)\n",
    "        ID_num = clusterIDs[i]\n",
    "    else:\n",
    "        Indexes.append(thisInd) \n",
    "        thisInd = [i]\n",
    "        ID_num = clusterIDs[i]\n",
    "baseSize = int(len(Indexes)/cores)  ##number of clusters to assign to each core\n",
    "remain = len(Indexes) % cores  ##leftover clusters if they didn't divide evenly among cores\n",
    "done = 0   ##counter to keep track of clusters that have already been assigned to a core\n",
    "IndexesChunks = [0]*cores  ##list to hold each cores' list of clusters\n",
    "    \n",
    "    \n",
    "    ##for(ii in 1:cores) {\n",
    "        ##if(remain > 0) {   ##\n",
    "            ##IndexesChunks[[ii]] <- done + 1:(baseSize + 1)\n",
    "            ##remain <- remain - 1L\n",
    "            ##done <- done + baseSize + 1L\n",
    "        ##} else {\n",
    "            ##IndexesChunks[[ii]] <- done + 1:baseSize\n",
    "            ##done <- done + baseSize\n",
    "        ##}\n",
    "    ##}\n",
    "    ##For each available core, create a list of \n",
    "for i in range(cores):\n",
    "    if remain > 0:\n",
    "        baseList = range(baseSize+1)\n",
    "        IndexesChunks[i] = [num+done for num in baseList]\n",
    "        remain -= 1\n",
    "        done += baseSize + 1\n",
    "    else:\n",
    "        baseList = range(baseSize)\n",
    "        IndexesChunks[i] = [num+done for num in baseList]\n",
    "        done += baseSize\n",
    "    \n",
    "    ##Commands for parallelization with R's foreach\n",
    "    \n",
    "    ##IndexesChunks <- lapply(IndexesChunks, function(idxes) {\n",
    "        ##do.call(c, unname(Indexes[idxes]))\n",
    "    ##})\n",
    "    ##idx <- NULL ## for R CMD check\n",
    "    ##ret <- foreach(idx = iter(IndexesChunks), .packages = \"bumphunter\") %dorng% {\n",
    "    \n",
    "    ####APPLY SMOOTHING FUNCTION#####\n",
    "    \n",
    "        ##sm <- smoothFunction(y=y[idx,], x=x[idx], cluster=cluster[idx],\n",
    "                             ##weights=weights[idx,], verbose=verbose, ...)\n",
    "        ##c(sm, list(idx = idx))\n",
    "    ##}\n",
    "    \n",
    "##smoothFunction can be one of three options as specified in the smoother() arguments:\n",
    "    ##locfit\n",
    "    ##loess\n",
    "    ##runmed\n",
    "    \n",
    "if smoothFunction == \"loess\":\n",
    "    sm.nonparametric.lowess(y,x)\n",
    "    \n",
    "    \n",
    "elif smoothFunction == \"runmed\":\n",
    "    pd.rolling_median(y,window)\n",
    "    ##window in this case is an integer --> need to update for each cluster somehow\n",
    "    \n",
    "    ##attributes(ret)[[\"rng\"]] <- NULL\n",
    "    ## Paste together results from different workers\n",
    "    ##ret <- reduceIt(ret)\n",
    "\n",
    "    ## Now fixing order issue\n",
    "    ##revOrder <- ret$idx\n",
    "    ##names(revOrder) <- seq_along(ret$idx)\n",
    "    ##revOrder <- sort(revOrder)\n",
    "    ##revOrder <- as.integer(names(revOrder))\n",
    "    \n",
    "    ##ret$smoother <- ret$smoother[1]\n",
    "    ##ret$fitted <- ret$fitted[revOrder,,drop=FALSE]\n",
    "    ##ret$smoothed <- ret$smoothed[revOrder]\n",
    "    ##ret$idx <- NULL\n",
    "    ##return(ret)  \n",
    "##}"
   ]
  },
  {
   "cell_type": "code",
   "execution_count": 11,
   "metadata": {},
   "outputs": [
    {
     "data": {
      "text/plain": [
       "242702"
      ]
     },
     "execution_count": 11,
     "metadata": {},
     "output_type": "execute_result"
    }
   ],
   "source": [
    "baseSize"
   ]
  },
  {
   "cell_type": "markdown",
   "metadata": {},
   "source": [
    "### Python equivalents for R's smoothing function options used in bumphunter\n",
    "\n",
    "<span style=\"font-family:Courier\">[locfit](http://ugrad.stat.ubc.ca/R/library/locfit/html/locfit.html)</span> - returns a fit object fitted to a local regression model (methods are outlined in the book [Local Regression and Likelihood](http://web.ipac.caltech.edu/staff/fmasci/home/astro_refs/LocalRegressionBook_1999.pdf))  \n",
    "<b>Python options:</b>  \n",
    "* [Python wrapper for Locfit C routines](https://github.com/chairmank/python-locfit) that uses <span style=\"font-family:Courier\">numpy</span> conventions in a github repository. Hasn't been updated in years, but says it has an MIT Open Source Software license (link is dead).\n",
    "* Github project for a [Gradient Boosting Machine that uses Locfit](https://github.com/materialsproject/gbml/) for local regression. It's been updated recently, but hard to tell how you actually use it in Python... Seems to rely on wrapper project above!\n",
    "\n",
    "<span style=\"font-family:Courier\">[loess](https://stat.ethz.ch/R-manual/R-devel/library/stats/html/loess.html)</span> - also uses local regression to smooth polynomial  \n",
    "<b>Python options:</b>  \n",
    "* ~~An individual wrote up [code for a LOESS non-parametric smoothing function](http://www.jtrive.com/loess-nonparametric-scatterplot-smoothing-in-python.html) (dependencies: <span style=\"font-family:Courier\">pandas, numpy, scipy</span>)~~\n",
    "* A function for lowess smoothing is available [in the <span style=\"font-family:Courier\">statsmodel</span> module](https://www.statsmodels.org/dev/generated/statsmodels.nonparametric.smoothers_lowess.lowess.html)\n",
    "* ~~The <span style=\"font-family:Courier\">scikit-misc</span> module also offers a [loess function](https://has2k1.github.io/scikit-misc/loess.html).~~\n",
    "* ~~Another individual on github made a [lowess smoothing script](https://gist.github.com/agramfort/850437). (dependencies: <span style=\"font-family:Courier\">numpy, scipy</span>)~~\n",
    "\n",
    "<span style=\"font-family:Courier\">[runmed](https://www.rdocumentation.org/packages/stats/versions/3.5.1/topics/runmed)</span> - calculates a running median across a list of values for a given window  \n",
    "<b>Python options:</b>\n",
    "* <span style=\"font-family:Courier\">pandas</span> has a [rolling median function](https://pandas.pydata.org/pandas-docs/version/0.17.0/generated/pandas.rolling_median.html), sold!\n"
   ]
  },
  {
   "cell_type": "markdown",
   "metadata": {},
   "source": [
    "## smoothFunction() commands --> loessByCluster() smoothing\n",
    "\n",
    "In the middle of <span style=\"font-family:Courier\">smoother</span>, the R function calls one of three different <span style=\"font-family:Courier\">smootherFunction</span>s depending on user specification. The default is <span style=\"font-family:Courier\">locfit</span>, but another option is <span style=\"font-family:Courier\">loess</span> which is also based on local regression."
   ]
  },
  {
   "cell_type": "code",
   "execution_count": null,
   "metadata": {},
   "outputs": [],
   "source": [
    "##sm <- smoothFunction(y=y[idx,], x=x[idx], cluster=cluster[idx],\n",
    "                             ##weights=weights[idx,], verbose=verbose, ...)\n",
    "\n",
    "##loessByCluster <- function(y, x=NULL, cluster, weights= NULL,\n",
    "                         ##bpSpan = 1000, minNum=7, minInSpan=5,\n",
    "                         ##maxSpan=1, verbose=TRUE) \n",
    "        \n",
    "        \n",
    "# x = chromosome positions\n",
    "# y = regression beta values"
   ]
  },
  {
   "cell_type": "code",
   "execution_count": 1,
   "metadata": {},
   "outputs": [
    {
     "ename": "SyntaxError",
     "evalue": "invalid syntax (<ipython-input-1-070dc9aefd46>, line 3)",
     "output_type": "error",
     "traceback": [
      "\u001b[1;36m  File \u001b[1;32m\"<ipython-input-1-070dc9aefd46>\"\u001b[1;36m, line \u001b[1;32m3\u001b[0m\n\u001b[1;33m    maxSpan=1, verbose=TRUE) {\u001b[0m\n\u001b[1;37m                             ^\u001b[0m\n\u001b[1;31mSyntaxError\u001b[0m\u001b[1;31m:\u001b[0m invalid syntax\n"
     ]
    }
   ],
   "source": [
    "    ## Depends on limma\n",
    "    ## bpSpan is in basepairs\n",
    "    ## assumed x are ordered\n",
    "    ## if y is vector change to matrix\n",
    "    \n",
    "x = probePositions.Position\n",
    "y = b\n",
    "bpSpan = 1000\n",
    "minNum = 7   ##minimum number of probes in a cluster to be able to smooth the cluster\n",
    "minInSpan = 5\n",
    "maxSpan = 1\n",
    "verbose = True\n",
    "    \n",
    "    ##if(is.null(dim(y)))\n",
    "        ##y <- matrix(y, ncol=1) ##need to change this to be more robust\n",
    "    ##if(!is.null(weights) && is.null(dim(weights)))\n",
    "        ##weights <- matrix(weights,ncol=1)\n",
    "    \n",
    "    ##if(is.null(x))\n",
    "        ##x <- seq(along=y)\n",
    "if x is None:   ##if no x variable is provided, use a sequential list the length of y\n",
    "    x = range(y.shape[0])\n",
    "        \n",
    "    ##if(is.null(weights))\n",
    "        ##weights <- matrix(1, nrow=nrow(y), ncol=ncol(y))\n",
    "if weights is None:  ##if no weights are provided, make a matrix the same size as y\n",
    "    weights = np.zeros((y.shape[0],y.shape[1]))\n",
    "    weights += 1   ##with every weight equal to 1\n",
    "        \n",
    "    ##Indexes <- split(seq(along=cluster), cluster) --> done in cell above for smoother()\n",
    "    ##clusterL <- sapply(Indexes, length)\n",
    "    ##spans <- rep(NA, length(Indexes))\n",
    "    ##smoothed <- rep(TRUE, nrow(y))\n",
    "clusterL = []    ##list that counts the number of probes in each cluster\n",
    "for i in range(len(Indexes)):\n",
    "    clusterL.append(len(Indexes[i]))\n",
    "spans = [None]*len(Indexes)   \n",
    "smoothed = [True]*y.shape[0]\n",
    "    \n",
    "    ##for(i in seq(along=Indexes)) {\n",
    "for i in range(len(Indexes)):\n",
    "        ##if(verbose) if(i %% 1e4 == 0) cat(\".\")\n",
    "        ##Index <- Indexes[[i]]\n",
    "    Index = Indexes[i]\n",
    "        ##if(clusterL[i] >= minNum) {\n",
    "    ##if this cluster contains the minimum number of probes required for smoothing\n",
    "    if (clusterL[i] >= minNum)   \n",
    "            ##span = bpSpan/median(diff(x[Index]))/length(Index) # make a span\n",
    "            ##if(span > maxSpan) span <- maxSpan\n",
    "            ##spans[i] <- span\n",
    "        span = bpSpan/np.median(np.diff(x[Index]))/len(Index)\n",
    "        if span > maxSpan:\n",
    "            span = maxSpan\n",
    "        spans[i] = span\n",
    "            ##if(span*length(Index)>minInSpan){\n",
    "                ##this can be parallelized\n",
    "                ##for(j in 1:ncol(y)){\n",
    "                    ##y[Index,j] <- limma::loessFit(y[Index,j], x[Index], span = span,\n",
    "                              ##weights = weights[Index,j])$fitted\n",
    "                ##}\n",
    "        if span*len(Index) > minInSpan:\n",
    "            for j in range(y.shape[0]):\n",
    "                y[Index,j]\n",
    "            ##} else{\n",
    "                ##y[Index,] <- NA\n",
    "                ##smoothed[Index] <- FALSE\n",
    "            ##}\n",
    "        ##} else{\n",
    "            ##y[Index,] <- NA\n",
    "            ##spans[i] <- NA\n",
    "            ##smoothed[Index] <- FALSE\n",
    "        ##}\n",
    "    ##}\n",
    "    \n",
    "    ##return(list(fitted=y, smoothed=smoothed, smoother=\"loess\"))\n",
    "##}\n"
   ]
  },
  {
   "cell_type": "code",
   "execution_count": 47,
   "metadata": {},
   "outputs": [
    {
     "ename": "NameError",
     "evalue": "name 'coef' is not defined",
     "output_type": "error",
     "traceback": [
      "\u001b[1;31m---------------------------------------------------------------------------\u001b[0m",
      "\u001b[1;31mNameError\u001b[0m                                 Traceback (most recent call last)",
      "\u001b[1;32m<ipython-input-47-3f66744b91a2>\u001b[0m in \u001b[0;36m<module>\u001b[1;34m\u001b[0m\n\u001b[0;32m      6\u001b[0m \u001b[0mbpSpan\u001b[0m\u001b[1;33m=\u001b[0m\u001b[1;36m1000\u001b[0m\u001b[1;33m\u001b[0m\u001b[1;33m\u001b[0m\u001b[0m\n\u001b[0;32m      7\u001b[0m \u001b[0mbpSpan\u001b[0m\u001b[1;33m/\u001b[0m\u001b[0mnp\u001b[0m\u001b[1;33m.\u001b[0m\u001b[0mmedian\u001b[0m\u001b[1;33m(\u001b[0m\u001b[0mnp\u001b[0m\u001b[1;33m.\u001b[0m\u001b[0mdiff\u001b[0m\u001b[1;33m(\u001b[0m\u001b[0mx\u001b[0m\u001b[1;33m[\u001b[0m\u001b[0mIndex\u001b[0m\u001b[1;33m]\u001b[0m\u001b[1;33m)\u001b[0m\u001b[1;33m)\u001b[0m\u001b[1;33m/\u001b[0m\u001b[0mlen\u001b[0m\u001b[1;33m(\u001b[0m\u001b[0mIndex\u001b[0m\u001b[1;33m)\u001b[0m\u001b[1;33m\u001b[0m\u001b[1;33m\u001b[0m\u001b[0m\n\u001b[1;32m----> 8\u001b[1;33m \u001b[0mcoef\u001b[0m\u001b[1;33m.\u001b[0m\u001b[0mshape\u001b[0m\u001b[1;33m\u001b[0m\u001b[1;33m\u001b[0m\u001b[0m\n\u001b[0m",
      "\u001b[1;31mNameError\u001b[0m: name 'coef' is not defined"
     ]
    }
   ],
   "source": [
    "x = probePositions.Position\n",
    "            ##span = bpSpan/median(diff(x[Index]))/length(Index) # make a span\n",
    "            ##if(span > maxSpan) span <- maxSpan\n",
    "            ##spans[i] <- span\n",
    "Index = Indexes[16]\n",
    "bpSpan=1000\n",
    "bpSpan/np.median(np.diff(x[Index]))/len(Index)\n",
    "coef.shape"
   ]
  },
  {
   "cell_type": "markdown",
   "metadata": {},
   "source": [
    "## smoothFunction() commands --> runmed smoothing"
   ]
  },
  {
   "cell_type": "code",
   "execution_count": 31,
   "metadata": {},
   "outputs": [
    {
     "data": {
      "text/plain": [
       "array([ 1.,  1.,  1.,  2.,  2.,  3.,  4.,  5.,  6.,  7.,  8.,  9.,  9.,\n",
       "        9.,  9.,  9., 10., 11., 11., 11., 12., 13., 14., 15., 16., 17.,\n",
       "       17., 17., 17., 17., 17., 18., 19., 19., 20., 21., 21., 22., 23.,\n",
       "       24., 25., 26., 27., 27., 27., 27., 27., 28., 28., 28.])"
      ]
     },
     "execution_count": 31,
     "metadata": {},
     "output_type": "execute_result"
    }
   ],
   "source": [
    "clusterIDs[:50]"
   ]
  },
  {
   "cell_type": "code",
   "execution_count": 13,
   "metadata": {},
   "outputs": [
    {
     "ename": "NameError",
     "evalue": "name 'weights' is not defined",
     "output_type": "error",
     "traceback": [
      "\u001b[1;31m---------------------------------------------------------------------------\u001b[0m",
      "\u001b[1;31mNameError\u001b[0m                                 Traceback (most recent call last)",
      "\u001b[1;32m<ipython-input-13-6f5ec41569ac>\u001b[0m in \u001b[0;36m<module>\u001b[1;34m\u001b[0m\n\u001b[1;32m----> 1\u001b[1;33m \u001b[0mweights\u001b[0m\u001b[1;33m\u001b[0m\u001b[1;33m\u001b[0m\u001b[0m\n\u001b[0m",
      "\u001b[1;31mNameError\u001b[0m: name 'weights' is not defined"
     ]
    }
   ],
   "source": [
    "weights"
   ]
  },
  {
   "cell_type": "code",
   "execution_count": null,
   "metadata": {},
   "outputs": [],
   "source": []
  }
 ],
 "metadata": {
  "kernelspec": {
   "display_name": "Python 3",
   "language": "python",
   "name": "python3"
  },
  "language_info": {
   "codemirror_mode": {
    "name": "ipython",
    "version": 3
   },
   "file_extension": ".py",
   "mimetype": "text/x-python",
   "name": "python",
   "nbconvert_exporter": "python",
   "pygments_lexer": "ipython3",
   "version": "3.7.3"
  }
 },
 "nbformat": 4,
 "nbformat_minor": 4
}
